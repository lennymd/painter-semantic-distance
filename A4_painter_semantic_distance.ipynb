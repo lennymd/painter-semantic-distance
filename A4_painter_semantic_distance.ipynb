{
 "cells": [
  {
   "cell_type": "markdown",
   "id": "9d904535-f897-46f2-b31f-1a47f944d302",
   "metadata": {},
   "source": [
    "Before you turn this problem in, make sure everything runs as expected. First, **restart the kernel** (in the menubar, select Kernel $\\rightarrow$ Restart) and then **run all cells** (in the menubar, select Cell $\\rightarrow$ Run All).\n",
    "\n",
    "Make sure you fill in any place that says `YOUR CODE HERE` or \"YOUR ANSWER HERE\", as well as your name and email below:"
   ]
  },
  {
   "cell_type": "code",
   "execution_count": 1,
   "id": "54c0505c",
   "metadata": {},
   "outputs": [],
   "source": [
    "# Full name\n",
    "NAME = \"\"\n",
    "# Institutional email (hm.edu or hmtm.de)\n",
    "EMAIL = \"\""
   ]
  },
  {
   "cell_type": "markdown",
   "id": "ccc9d4c6",
   "metadata": {},
   "source": [
    "---"
   ]
  },
  {
   "cell_type": "markdown",
   "id": "5bf0c09a",
   "metadata": {},
   "source": [
    "# Day 4 - Visualizing painter biographies\n",
    "\n",
    "## 4.0 - Getting Started\n",
    "\n",
    "### Introduction\n",
    "\n",
    "The fourth day of this class will show you:\n",
    "\n",
    "- [HuggingFace](https://huggingface.co/), a platform for finding and working with different machine learning models.\n",
    "- How to use **DistilBERT** to visualize how similar painters are based on their short bios.\n",
    "\n",
    "Please download the code and data from the [github repository](https://github.com/aica-wavelab/aica-assignments) and follow the instructions in the `A4_painter_semantic_distance`.\n",
    "\n",
    "[Github repository of the course](https://github.com/aica-wavelab/aica-assignments)\n",
    "\n",
    "### Content of the repository\n",
    "\n",
    "- `data`: A folder containing the summary information for artists gathered from Wikipedia.\n",
    "- `A4_painter_semantic_distance.ipynb`: This notebook where we will do the analysis and visualization work.\n",
    "\n",
    "### Assignment\n",
    "\n",
    "Today's task is to find a way to cluster and visualize painters based on the summaries of their Wikipedia pages.\n",
    "\n",
    "@@REVIEW@@\n",
    "\n",
    "### Installation required\n",
    "\n",
    "Make sure you have the following packages installed for today."
   ]
  },
  {
   "cell_type": "code",
   "execution_count": 2,
   "id": "b874c467",
   "metadata": {},
   "outputs": [
    {
     "name": "stdout",
     "output_type": "stream",
     "text": [
      "Requirement already satisfied: pandas in /opt/miniconda3/lib/python3.12/site-packages (2.1.4)\n",
      "Requirement already satisfied: numpy in /opt/miniconda3/lib/python3.12/site-packages (1.26.4)\n",
      "Requirement already satisfied: matplotlib in /opt/miniconda3/lib/python3.12/site-packages (3.9.0)\n",
      "Requirement already satisfied: seaborn in /opt/miniconda3/lib/python3.12/site-packages (0.13.2)\n",
      "Requirement already satisfied: python-dateutil>=2.8.2 in /opt/miniconda3/lib/python3.12/site-packages (from pandas) (2.8.2)\n",
      "Requirement already satisfied: pytz>=2020.1 in /opt/miniconda3/lib/python3.12/site-packages (from pandas) (2023.3.post1)\n",
      "Requirement already satisfied: tzdata>=2022.1 in /opt/miniconda3/lib/python3.12/site-packages (from pandas) (2023.3)\n",
      "Requirement already satisfied: contourpy>=1.0.1 in /opt/miniconda3/lib/python3.12/site-packages (from matplotlib) (1.2.1)\n",
      "Requirement already satisfied: cycler>=0.10 in /opt/miniconda3/lib/python3.12/site-packages (from matplotlib) (0.12.1)\n",
      "Requirement already satisfied: fonttools>=4.22.0 in /opt/miniconda3/lib/python3.12/site-packages (from matplotlib) (4.52.4)\n",
      "Requirement already satisfied: kiwisolver>=1.3.1 in /opt/miniconda3/lib/python3.12/site-packages (from matplotlib) (1.4.5)\n",
      "Requirement already satisfied: packaging>=20.0 in /opt/miniconda3/lib/python3.12/site-packages (from matplotlib) (23.1)\n",
      "Requirement already satisfied: pillow>=8 in /opt/miniconda3/lib/python3.12/site-packages (from matplotlib) (10.2.0)\n",
      "Requirement already satisfied: pyparsing>=2.3.1 in /opt/miniconda3/lib/python3.12/site-packages (from matplotlib) (3.1.2)\n",
      "Requirement already satisfied: six>=1.5 in /opt/miniconda3/lib/python3.12/site-packages (from python-dateutil>=2.8.2->pandas) (1.16.0)\n"
     ]
    }
   ],
   "source": [
    "# Run this cell if to install the required packages\n",
    "!pip install pandas numpy matplotlib seaborn"
   ]
  },
  {
   "cell_type": "markdown",
   "id": "b8fda041",
   "metadata": {},
   "source": [
    "---"
   ]
  },
  {
   "cell_type": "markdown",
   "id": "29f0421c",
   "metadata": {},
   "source": [
    "## 4.1 - The dataset\n",
    "\n",
    "The dataset is something I put together using the `wikipedia-api` package (linked [here](https://pypi.org/project/Wikipedia-API/)). It's a collection of the summaries from painter pages on Wikipedia. The painter pages come Wikipedia's [List of painters by name](https://en.wikipedia.org/wiki/List_of_painters_by_name). While it has a lot of painters, it's important to note that it does not cover _all_ the painters who have pages on Wikipedia.\n",
    "\n",
    "The dataset is divided into two sections:\n",
    "\n",
    "- The main file is `painter_summaries_all.csv`; it has data on all 3900+ painters listed in the Wikipedia article. One listed painter has been removed from this dataset that appears in the partial files and the IDs not been changed.\n",
    "- There are also 6 files in the `partial` directory with the format `painter_summaries_part##.csv`. These files have the data split into smaller chunks based on how the data was gathered.\n",
    "\n",
    "## Inspecting the data\n",
    "\n",
    "Open `painter_summaries_all.csv` file in a spreadsheet program (Excel, Numbers, Sheets, etc) and take a look at the data.\n",
    "\n",
    "<div class=\"alert alert-info\">\n",
    "<b>Instruction:</b> What are the columns in this dataset? What do they each contain?\n",
    "</div>"
   ]
  },
  {
   "cell_type": "markdown",
   "id": "49925b5a",
   "metadata": {},
   "source": [
    "**@@ YOUR ANSWER HERE @@**"
   ]
  },
  {
   "cell_type": "markdown",
   "id": "e05dad26",
   "metadata": {},
   "source": [
    "## Loading the data\n",
    "\n",
    "Let's load the complete dataset and inspect it using pandas."
   ]
  },
  {
   "cell_type": "code",
   "execution_count": 4,
   "id": "d2b4fd37",
   "metadata": {},
   "outputs": [
    {
     "data": {
      "text/html": [
       "<div>\n",
       "<style scoped>\n",
       "    .dataframe tbody tr th:only-of-type {\n",
       "        vertical-align: middle;\n",
       "    }\n",
       "\n",
       "    .dataframe tbody tr th {\n",
       "        vertical-align: top;\n",
       "    }\n",
       "\n",
       "    .dataframe thead th {\n",
       "        text-align: right;\n",
       "    }\n",
       "</style>\n",
       "<table border=\"1\" class=\"dataframe\">\n",
       "  <thead>\n",
       "    <tr style=\"text-align: right;\">\n",
       "      <th></th>\n",
       "      <th>painter_id</th>\n",
       "      <th>painter_name</th>\n",
       "      <th>summary</th>\n",
       "      <th>url</th>\n",
       "    </tr>\n",
       "  </thead>\n",
       "  <tbody>\n",
       "    <tr>\n",
       "      <th>0</th>\n",
       "      <td>1</td>\n",
       "      <td>Alfred Richard Gurrey Sr.</td>\n",
       "      <td>Alfred Richard Gurrey Sr.  (1852–1944) was an ...</td>\n",
       "      <td>https://en.wikipedia.org/wiki/Alfred_Richard_G...</td>\n",
       "    </tr>\n",
       "    <tr>\n",
       "      <th>1</th>\n",
       "      <td>2</td>\n",
       "      <td>Edward Otho Cresap Ord II</td>\n",
       "      <td>Edward Otho Cresap Ord, II (November 9, 1858 –...</td>\n",
       "      <td>https://en.wikipedia.org/wiki/Edward_Otho_Cres...</td>\n",
       "    </tr>\n",
       "    <tr>\n",
       "      <th>2</th>\n",
       "      <td>3</td>\n",
       "      <td>George Barret Jr.</td>\n",
       "      <td>George Barret Jr. (1767–1842), sometimes refer...</td>\n",
       "      <td>https://en.wikipedia.org/wiki/George_Barret_Jr.</td>\n",
       "    </tr>\n",
       "    <tr>\n",
       "      <th>3</th>\n",
       "      <td>4</td>\n",
       "      <td>George Barret Sr.</td>\n",
       "      <td>George Barret Sr.  (c. 1730 – 29 May 1784) was...</td>\n",
       "      <td>https://en.wikipedia.org/wiki/George_Barret_Sr.</td>\n",
       "    </tr>\n",
       "    <tr>\n",
       "      <th>4</th>\n",
       "      <td>5</td>\n",
       "      <td>Henry Ives Cobb Jr.</td>\n",
       "      <td>Henry Ives Cobb Jr. (March 24, 1883 – August 1...</td>\n",
       "      <td>https://en.wikipedia.org/wiki/Henry_Ives_Cobb_Jr.</td>\n",
       "    </tr>\n",
       "  </tbody>\n",
       "</table>\n",
       "</div>"
      ],
      "text/plain": [
       "   painter_id               painter_name  \\\n",
       "0           1  Alfred Richard Gurrey Sr.   \n",
       "1           2  Edward Otho Cresap Ord II   \n",
       "2           3          George Barret Jr.   \n",
       "3           4          George Barret Sr.   \n",
       "4           5        Henry Ives Cobb Jr.   \n",
       "\n",
       "                                             summary  \\\n",
       "0  Alfred Richard Gurrey Sr.  (1852–1944) was an ...   \n",
       "1  Edward Otho Cresap Ord, II (November 9, 1858 –...   \n",
       "2  George Barret Jr. (1767–1842), sometimes refer...   \n",
       "3  George Barret Sr.  (c. 1730 – 29 May 1784) was...   \n",
       "4  Henry Ives Cobb Jr. (March 24, 1883 – August 1...   \n",
       "\n",
       "                                                 url  \n",
       "0  https://en.wikipedia.org/wiki/Alfred_Richard_G...  \n",
       "1  https://en.wikipedia.org/wiki/Edward_Otho_Cres...  \n",
       "2    https://en.wikipedia.org/wiki/George_Barret_Jr.  \n",
       "3    https://en.wikipedia.org/wiki/George_Barret_Sr.  \n",
       "4  https://en.wikipedia.org/wiki/Henry_Ives_Cobb_Jr.  "
      ]
     },
     "execution_count": 4,
     "metadata": {},
     "output_type": "execute_result"
    }
   ],
   "source": [
    "import pandas as pd\n",
    "\n",
    "painter_summaries_df = pd.read_csv(\"data/painter_summaries_all.csv\")\n",
    "\n",
    "painter_summaries_df.head(5)"
   ]
  },
  {
   "cell_type": "code",
   "execution_count": null,
   "id": "1a7f6584",
   "metadata": {},
   "outputs": [],
   "source": []
  }
 ],
 "metadata": {
  "kernelspec": {
   "display_name": "base",
   "language": "python",
   "name": "python3"
  },
  "language_info": {
   "codemirror_mode": {
    "name": "ipython",
    "version": 3
   },
   "file_extension": ".py",
   "mimetype": "text/x-python",
   "name": "python",
   "nbconvert_exporter": "python",
   "pygments_lexer": "ipython3",
   "version": "3.12.2"
  }
 },
 "nbformat": 4,
 "nbformat_minor": 5
}
