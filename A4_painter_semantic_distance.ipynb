{
 "cells": [
  {
   "cell_type": "markdown",
   "id": "9d904535-f897-46f2-b31f-1a47f944d302",
   "metadata": {},
   "source": [
    "Before you turn this problem in, make sure everything runs as expected. First, **restart the kernel** (in the menubar, select Kernel $\\rightarrow$ Restart) and then **run all cells** (in the menubar, select Cell $\\rightarrow$ Run All).\n",
    "\n",
    "Make sure you fill in any place that says `YOUR CODE HERE` or \"YOUR ANSWER HERE\", as well as your name and email below:"
   ]
  },
  {
   "cell_type": "code",
   "execution_count": 45,
   "id": "54c0505c",
   "metadata": {},
   "outputs": [],
   "source": [
    "# Full name\n",
    "NAME = \"\"\n",
    "# Institutional email (hm.edu or hmtm.de)\n",
    "EMAIL = \"\""
   ]
  },
  {
   "cell_type": "markdown",
   "id": "ccc9d4c6",
   "metadata": {},
   "source": [
    "---"
   ]
  },
  {
   "cell_type": "markdown",
   "id": "5bf0c09a",
   "metadata": {},
   "source": [
    "# Day 4 - Visualizing painter biographies\n",
    "\n",
    "## 4.0 - Getting Started\n",
    "\n",
    "### Introduction\n",
    "\n",
    "The fourth day of this class will show you:\n",
    "\n",
    "- [HuggingFace](https://huggingface.co/), a platform for finding and working with different machine learning models.\n",
    "- How to visualize how similarity between painters\n",
    "\n",
    "Please download the code and data from the [github repository](https://github.com/aica-wavelab/aica-assignments) and follow the instructions in the `A4_painter_semantic_distance`.\n",
    "\n",
    "[Github repository of the course](https://github.com/aica-wavelab/aica-assignments)\n",
    "\n",
    "### Content of the repository\n",
    "\n",
    "- `data`: A folder containing the summary information for artists gathered from Wikipedia.\n",
    "- `A4_painter_semantic_distance.ipynb`: This notebook where we will do the analysis and visualization work.\n",
    "\n",
    "### Assignment\n",
    "\n",
    "Today's task is to find a way to cluster and visualize painters based on the summaries of their Wikipedia pages.\n",
    "\n",
    "@@REVIEW@@\n",
    "\n",
    "### Installation required\n",
    "\n",
    "Make sure you have the following packages installed for today."
   ]
  },
  {
   "cell_type": "code",
   "execution_count": 88,
   "id": "b874c467",
   "metadata": {},
   "outputs": [
    {
     "name": "stderr",
     "output_type": "stream",
     "text": [
      "huggingface/tokenizers: The current process just got forked, after parallelism has already been used. Disabling parallelism to avoid deadlocks...\n",
      "To disable this warning, you can either:\n",
      "\t- Avoid using `tokenizers` before the fork if possible\n",
      "\t- Explicitly set the environment variable TOKENIZERS_PARALLELISM=(true | false)\n"
     ]
    },
    {
     "name": "stdout",
     "output_type": "stream",
     "text": [
      "Requirement already satisfied: pandas in /opt/miniconda3/lib/python3.12/site-packages (2.1.4)\n",
      "Requirement already satisfied: numpy in /opt/miniconda3/lib/python3.12/site-packages (1.26.4)\n",
      "Requirement already satisfied: matplotlib in /opt/miniconda3/lib/python3.12/site-packages (3.9.0)\n",
      "Requirement already satisfied: seaborn in /opt/miniconda3/lib/python3.12/site-packages (0.13.2)\n",
      "Requirement already satisfied: sentence-transformers in /opt/miniconda3/lib/python3.12/site-packages (3.0.1)\n",
      "Requirement already satisfied: umap-learn in /opt/miniconda3/lib/python3.12/site-packages (0.5.6)\n",
      "Requirement already satisfied: plotly in /opt/miniconda3/lib/python3.12/site-packages (5.22.0)\n",
      "Requirement already satisfied: python-dateutil>=2.8.2 in /opt/miniconda3/lib/python3.12/site-packages (from pandas) (2.8.2)\n",
      "Requirement already satisfied: pytz>=2020.1 in /opt/miniconda3/lib/python3.12/site-packages (from pandas) (2023.3.post1)\n",
      "Requirement already satisfied: tzdata>=2022.1 in /opt/miniconda3/lib/python3.12/site-packages (from pandas) (2023.3)\n",
      "Requirement already satisfied: contourpy>=1.0.1 in /opt/miniconda3/lib/python3.12/site-packages (from matplotlib) (1.2.1)\n",
      "Requirement already satisfied: cycler>=0.10 in /opt/miniconda3/lib/python3.12/site-packages (from matplotlib) (0.12.1)\n",
      "Requirement already satisfied: fonttools>=4.22.0 in /opt/miniconda3/lib/python3.12/site-packages (from matplotlib) (4.52.4)\n",
      "Requirement already satisfied: kiwisolver>=1.3.1 in /opt/miniconda3/lib/python3.12/site-packages (from matplotlib) (1.4.5)\n",
      "Requirement already satisfied: packaging>=20.0 in /opt/miniconda3/lib/python3.12/site-packages (from matplotlib) (23.1)\n",
      "Requirement already satisfied: pillow>=8 in /opt/miniconda3/lib/python3.12/site-packages (from matplotlib) (10.2.0)\n",
      "Requirement already satisfied: pyparsing>=2.3.1 in /opt/miniconda3/lib/python3.12/site-packages (from matplotlib) (3.1.2)\n",
      "Requirement already satisfied: transformers<5.0.0,>=4.34.0 in /opt/miniconda3/lib/python3.12/site-packages (from sentence-transformers) (4.41.2)\n",
      "Requirement already satisfied: tqdm in /opt/miniconda3/lib/python3.12/site-packages (from sentence-transformers) (4.65.0)\n",
      "Requirement already satisfied: torch>=1.11.0 in /opt/miniconda3/lib/python3.12/site-packages (from sentence-transformers) (2.2.1)\n",
      "Requirement already satisfied: scikit-learn in /opt/miniconda3/lib/python3.12/site-packages (from sentence-transformers) (1.5.0)\n",
      "Requirement already satisfied: scipy in /opt/miniconda3/lib/python3.12/site-packages (from sentence-transformers) (1.13.1)\n",
      "Requirement already satisfied: huggingface-hub>=0.15.1 in /opt/miniconda3/lib/python3.12/site-packages (from sentence-transformers) (0.23.3)\n",
      "Requirement already satisfied: numba>=0.51.2 in /opt/miniconda3/lib/python3.12/site-packages (from umap-learn) (0.59.1)\n",
      "Requirement already satisfied: pynndescent>=0.5 in /opt/miniconda3/lib/python3.12/site-packages (from umap-learn) (0.5.12)\n",
      "Requirement already satisfied: tenacity>=6.2.0 in /opt/miniconda3/lib/python3.12/site-packages (from plotly) (8.3.0)\n",
      "Requirement already satisfied: filelock in /opt/miniconda3/lib/python3.12/site-packages (from huggingface-hub>=0.15.1->sentence-transformers) (3.13.1)\n",
      "Requirement already satisfied: fsspec>=2023.5.0 in /opt/miniconda3/lib/python3.12/site-packages (from huggingface-hub>=0.15.1->sentence-transformers) (2024.6.0)\n",
      "Requirement already satisfied: pyyaml>=5.1 in /opt/miniconda3/lib/python3.12/site-packages (from huggingface-hub>=0.15.1->sentence-transformers) (6.0.1)\n",
      "Requirement already satisfied: requests in /opt/miniconda3/lib/python3.12/site-packages (from huggingface-hub>=0.15.1->sentence-transformers) (2.31.0)\n",
      "Requirement already satisfied: typing-extensions>=3.7.4.3 in /opt/miniconda3/lib/python3.12/site-packages (from huggingface-hub>=0.15.1->sentence-transformers) (4.9.0)\n",
      "Requirement already satisfied: llvmlite<0.43,>=0.42.0dev0 in /opt/miniconda3/lib/python3.12/site-packages (from numba>=0.51.2->umap-learn) (0.42.0)\n",
      "Requirement already satisfied: joblib>=0.11 in /opt/miniconda3/lib/python3.12/site-packages (from pynndescent>=0.5->umap-learn) (1.4.2)\n",
      "Requirement already satisfied: six>=1.5 in /opt/miniconda3/lib/python3.12/site-packages (from python-dateutil>=2.8.2->pandas) (1.16.0)\n",
      "Requirement already satisfied: threadpoolctl>=3.1.0 in /opt/miniconda3/lib/python3.12/site-packages (from scikit-learn->sentence-transformers) (3.5.0)\n",
      "Requirement already satisfied: sympy in /opt/miniconda3/lib/python3.12/site-packages (from torch>=1.11.0->sentence-transformers) (1.12)\n",
      "Requirement already satisfied: networkx in /opt/miniconda3/lib/python3.12/site-packages (from torch>=1.11.0->sentence-transformers) (3.1)\n",
      "Requirement already satisfied: jinja2 in /opt/miniconda3/lib/python3.12/site-packages (from torch>=1.11.0->sentence-transformers) (3.1.3)\n",
      "Requirement already satisfied: regex!=2019.12.17 in /opt/miniconda3/lib/python3.12/site-packages (from transformers<5.0.0,>=4.34.0->sentence-transformers) (2024.5.15)\n",
      "Requirement already satisfied: tokenizers<0.20,>=0.19 in /opt/miniconda3/lib/python3.12/site-packages (from transformers<5.0.0,>=4.34.0->sentence-transformers) (0.19.1)\n",
      "Requirement already satisfied: safetensors>=0.4.1 in /opt/miniconda3/lib/python3.12/site-packages (from transformers<5.0.0,>=4.34.0->sentence-transformers) (0.4.3)\n",
      "Requirement already satisfied: MarkupSafe>=2.0 in /opt/miniconda3/lib/python3.12/site-packages (from jinja2->torch>=1.11.0->sentence-transformers) (2.1.3)\n",
      "Requirement already satisfied: charset-normalizer<4,>=2 in /opt/miniconda3/lib/python3.12/site-packages (from requests->huggingface-hub>=0.15.1->sentence-transformers) (2.0.4)\n",
      "Requirement already satisfied: idna<4,>=2.5 in /opt/miniconda3/lib/python3.12/site-packages (from requests->huggingface-hub>=0.15.1->sentence-transformers) (3.4)\n",
      "Requirement already satisfied: urllib3<3,>=1.21.1 in /opt/miniconda3/lib/python3.12/site-packages (from requests->huggingface-hub>=0.15.1->sentence-transformers) (2.1.0)\n",
      "Requirement already satisfied: certifi>=2017.4.17 in /opt/miniconda3/lib/python3.12/site-packages (from requests->huggingface-hub>=0.15.1->sentence-transformers) (2024.2.2)\n",
      "Requirement already satisfied: mpmath>=0.19 in /opt/miniconda3/lib/python3.12/site-packages (from sympy->torch>=1.11.0->sentence-transformers) (1.3.0)\n"
     ]
    }
   ],
   "source": [
    "!pip install pandas numpy matplotlib seaborn sentence-transformers umap-learn plotly"
   ]
  },
  {
   "cell_type": "markdown",
   "id": "b8fda041",
   "metadata": {},
   "source": [
    "---"
   ]
  },
  {
   "cell_type": "markdown",
   "id": "29f0421c",
   "metadata": {},
   "source": [
    "## 4.1 - The dataset\n",
    "\n",
    "The dataset is something I put together using the `wikipedia-api` package (linked [here](https://pypi.org/project/Wikipedia-API/)). It's a collection of the summaries from painter pages on Wikipedia. The painter pages come Wikipedia's [List of painters by name](https://en.wikipedia.org/wiki/List_of_painters_by_name). While it has a lot of painters, it's important to note that it does not cover _all_ the painters who have pages on Wikipedia.\n",
    "\n",
    "The dataset is divided into two sections:\n",
    "\n",
    "- The main file is `painter_summaries_all.csv`; it has data on all 3900+ painters listed in the Wikipedia article. One listed painter has been removed from this dataset that appears in the partial files and the IDs not been changed.\n",
    "- There are also 6 files in the `partial` directory with the format `painter_summaries_part##.csv`. These files have the data split into smaller chunks based on how the data was gathered.\n",
    "\n",
    "### Inspecting the data\n",
    "\n",
    "Open `painter_summaries_all.csv` file in a spreadsheet program (Excel, Numbers, Sheets, etc) and take a look at the data.\n",
    "\n",
    "<div class=\"alert alert-info\">\n",
    "<b>Instruction:</b> What are the columns in this dataset? What do they each contain?\n",
    "</div>"
   ]
  },
  {
   "cell_type": "markdown",
   "id": "49925b5a",
   "metadata": {},
   "source": [
    "**@@ YOUR ANSWER HERE @@**"
   ]
  },
  {
   "cell_type": "markdown",
   "id": "e05dad26",
   "metadata": {},
   "source": [
    "### Loading the data\n",
    "\n",
    "Let's load the complete dataset and inspect it using pandas."
   ]
  },
  {
   "cell_type": "code",
   "execution_count": 47,
   "id": "d2b4fd37",
   "metadata": {},
   "outputs": [
    {
     "data": {
      "text/html": [
       "<div>\n",
       "<style scoped>\n",
       "    .dataframe tbody tr th:only-of-type {\n",
       "        vertical-align: middle;\n",
       "    }\n",
       "\n",
       "    .dataframe tbody tr th {\n",
       "        vertical-align: top;\n",
       "    }\n",
       "\n",
       "    .dataframe thead th {\n",
       "        text-align: right;\n",
       "    }\n",
       "</style>\n",
       "<table border=\"1\" class=\"dataframe\">\n",
       "  <thead>\n",
       "    <tr style=\"text-align: right;\">\n",
       "      <th></th>\n",
       "      <th>painter_id</th>\n",
       "      <th>painter_name</th>\n",
       "      <th>summary</th>\n",
       "      <th>url</th>\n",
       "    </tr>\n",
       "  </thead>\n",
       "  <tbody>\n",
       "    <tr>\n",
       "      <th>0</th>\n",
       "      <td>1</td>\n",
       "      <td>Alfred Richard Gurrey Sr.</td>\n",
       "      <td>Alfred Richard Gurrey Sr.  (1852–1944) was an ...</td>\n",
       "      <td>https://en.wikipedia.org/wiki/Alfred_Richard_G...</td>\n",
       "    </tr>\n",
       "    <tr>\n",
       "      <th>1</th>\n",
       "      <td>2</td>\n",
       "      <td>Edward Otho Cresap Ord II</td>\n",
       "      <td>Edward Otho Cresap Ord, II (November 9, 1858 –...</td>\n",
       "      <td>https://en.wikipedia.org/wiki/Edward_Otho_Cres...</td>\n",
       "    </tr>\n",
       "    <tr>\n",
       "      <th>2</th>\n",
       "      <td>3</td>\n",
       "      <td>George Barret Jr.</td>\n",
       "      <td>George Barret Jr. (1767–1842), sometimes refer...</td>\n",
       "      <td>https://en.wikipedia.org/wiki/George_Barret_Jr.</td>\n",
       "    </tr>\n",
       "    <tr>\n",
       "      <th>3</th>\n",
       "      <td>4</td>\n",
       "      <td>George Barret Sr.</td>\n",
       "      <td>George Barret Sr.  (c. 1730 – 29 May 1784) was...</td>\n",
       "      <td>https://en.wikipedia.org/wiki/George_Barret_Sr.</td>\n",
       "    </tr>\n",
       "    <tr>\n",
       "      <th>4</th>\n",
       "      <td>5</td>\n",
       "      <td>Henry Ives Cobb Jr.</td>\n",
       "      <td>Henry Ives Cobb Jr. (March 24, 1883 – August 1...</td>\n",
       "      <td>https://en.wikipedia.org/wiki/Henry_Ives_Cobb_Jr.</td>\n",
       "    </tr>\n",
       "  </tbody>\n",
       "</table>\n",
       "</div>"
      ],
      "text/plain": [
       "   painter_id               painter_name  \\\n",
       "0           1  Alfred Richard Gurrey Sr.   \n",
       "1           2  Edward Otho Cresap Ord II   \n",
       "2           3          George Barret Jr.   \n",
       "3           4          George Barret Sr.   \n",
       "4           5        Henry Ives Cobb Jr.   \n",
       "\n",
       "                                             summary  \\\n",
       "0  Alfred Richard Gurrey Sr.  (1852–1944) was an ...   \n",
       "1  Edward Otho Cresap Ord, II (November 9, 1858 –...   \n",
       "2  George Barret Jr. (1767–1842), sometimes refer...   \n",
       "3  George Barret Sr.  (c. 1730 – 29 May 1784) was...   \n",
       "4  Henry Ives Cobb Jr. (March 24, 1883 – August 1...   \n",
       "\n",
       "                                                 url  \n",
       "0  https://en.wikipedia.org/wiki/Alfred_Richard_G...  \n",
       "1  https://en.wikipedia.org/wiki/Edward_Otho_Cres...  \n",
       "2    https://en.wikipedia.org/wiki/George_Barret_Jr.  \n",
       "3    https://en.wikipedia.org/wiki/George_Barret_Sr.  \n",
       "4  https://en.wikipedia.org/wiki/Henry_Ives_Cobb_Jr.  "
      ]
     },
     "execution_count": 47,
     "metadata": {},
     "output_type": "execute_result"
    }
   ],
   "source": [
    "import pandas as pd\n",
    "\n",
    "painter_summaries_df = pd.read_csv(\"data/painter_summaries_all.csv\")\n",
    "\n",
    "painter_summaries_df.head(5)"
   ]
  },
  {
   "cell_type": "markdown",
   "id": "1a7f6584",
   "metadata": {},
   "source": [
    "<div class=\"alert alert-info\">\n",
    "<b>Instruction:</b> How many painters are there in the dataset? Are there any duplicates?\n",
    "</div>"
   ]
  },
  {
   "cell_type": "code",
   "execution_count": 48,
   "id": "b3f5f273",
   "metadata": {},
   "outputs": [
    {
     "data": {
      "text/plain": [
       "painter_name\n",
       "Galli da Bibiena family    4\n",
       "Walter Emerson Baum        2\n",
       "Hristofor Žefarović        2\n",
       "Giulio Clovio              2\n",
       "Domenichino                2\n",
       "                          ..\n",
       "Giorgio de Chirico         1\n",
       "Giorgio De Vincenzi        1\n",
       "Giorgio Morandi            1\n",
       "Giorgione                  1\n",
       "Þórarinn B. Þorláksson     1\n",
       "Name: count, Length: 3925, dtype: int64"
      ]
     },
     "execution_count": 48,
     "metadata": {},
     "output_type": "execute_result"
    }
   ],
   "source": [
    "# YOUR CODE HERE\n",
    "painter_summaries_df[\"painter_name\"].value_counts()"
   ]
  },
  {
   "cell_type": "markdown",
   "id": "fb8e86eb",
   "metadata": {},
   "source": [
    "### Cleaning the dataset \n",
    "<div class=\"alert alert-info\">\n",
    "<b>Instruction:</b> Create a new dataframe <strong>painter_summaries_clean</strong> that does not have duplicates based on the <em>painter_name</em> column.\n",
    "</div>"
   ]
  },
  {
   "cell_type": "code",
   "execution_count": 49,
   "id": "c07fb563",
   "metadata": {},
   "outputs": [
    {
     "data": {
      "text/plain": [
       "painter_name\n",
       "Alfred Richard Gurrey Sr.    1\n",
       "Mati Klarwein                1\n",
       "Matija Jama                  1\n",
       "Matsumura Goshun             1\n",
       "Matsuno Chikanobu            1\n",
       "                            ..\n",
       "Giorgio Cavallon             1\n",
       "Giorgio de Chirico           1\n",
       "Giorgio De Vincenzi          1\n",
       "Giorgio Morandi              1\n",
       "Þórarinn B. Þorláksson       1\n",
       "Name: count, Length: 3925, dtype: int64"
      ]
     },
     "execution_count": 49,
     "metadata": {},
     "output_type": "execute_result"
    }
   ],
   "source": [
    "# YOUR CODE HERE\n",
    "# raise NotImplementedError()\n",
    "painter_summaries_clean = painter_summaries_df.drop_duplicates(subset=\"painter_name\", keep=\"first\")\n",
    "painter_summaries_clean[\"painter_name\"].value_counts()"
   ]
  },
  {
   "cell_type": "markdown",
   "id": "192eb563",
   "metadata": {},
   "source": [
    "Now that the dataset is duplicate free we can start working it for our analysis.\n",
    "\n",
    "If you look at the data file in a spreadsheet program, you will notice that the summaries are of various lengths. Let's keep track of that somehow because we may want to filter later on."
   ]
  },
  {
   "cell_type": "code",
   "execution_count": 50,
   "id": "085bdc1d",
   "metadata": {},
   "outputs": [],
   "source": [
    "def count_words(text):\n",
    "    return len(text.split())"
   ]
  },
  {
   "cell_type": "markdown",
   "id": "d3adb6cb",
   "metadata": {},
   "source": [
    "<div class=\"alert alert-info\">\n",
    "<b>Instruction:</b> Create a new column <em>summary_length</em> using the count_words() function.\n",
    "</div>\n"
   ]
  },
  {
   "cell_type": "code",
   "execution_count": 51,
   "id": "3da28932",
   "metadata": {},
   "outputs": [
    {
     "name": "stderr",
     "output_type": "stream",
     "text": [
      "/var/folders/q7/xm4_j0ws78dgcdtz0k45k7k40000gq/T/ipykernel_96431/2367578359.py:1: SettingWithCopyWarning: \n",
      "A value is trying to be set on a copy of a slice from a DataFrame.\n",
      "Try using .loc[row_indexer,col_indexer] = value instead\n",
      "\n",
      "See the caveats in the documentation: https://pandas.pydata.org/pandas-docs/stable/user_guide/indexing.html#returning-a-view-versus-a-copy\n",
      "  painter_summaries_clean[\"summary_length\"] = painter_summaries_clean[\"summary\"].apply(count_words)\n"
     ]
    },
    {
     "data": {
      "text/html": [
       "<div>\n",
       "<style scoped>\n",
       "    .dataframe tbody tr th:only-of-type {\n",
       "        vertical-align: middle;\n",
       "    }\n",
       "\n",
       "    .dataframe tbody tr th {\n",
       "        vertical-align: top;\n",
       "    }\n",
       "\n",
       "    .dataframe thead th {\n",
       "        text-align: right;\n",
       "    }\n",
       "</style>\n",
       "<table border=\"1\" class=\"dataframe\">\n",
       "  <thead>\n",
       "    <tr style=\"text-align: right;\">\n",
       "      <th></th>\n",
       "      <th>painter_id</th>\n",
       "      <th>painter_name</th>\n",
       "      <th>summary</th>\n",
       "      <th>url</th>\n",
       "      <th>summary_length</th>\n",
       "    </tr>\n",
       "  </thead>\n",
       "  <tbody>\n",
       "    <tr>\n",
       "      <th>0</th>\n",
       "      <td>1</td>\n",
       "      <td>Alfred Richard Gurrey Sr.</td>\n",
       "      <td>Alfred Richard Gurrey Sr.  (1852–1944) was an ...</td>\n",
       "      <td>https://en.wikipedia.org/wiki/Alfred_Richard_G...</td>\n",
       "      <td>164</td>\n",
       "    </tr>\n",
       "    <tr>\n",
       "      <th>1</th>\n",
       "      <td>2</td>\n",
       "      <td>Edward Otho Cresap Ord II</td>\n",
       "      <td>Edward Otho Cresap Ord, II (November 9, 1858 –...</td>\n",
       "      <td>https://en.wikipedia.org/wiki/Edward_Otho_Cres...</td>\n",
       "      <td>84</td>\n",
       "    </tr>\n",
       "    <tr>\n",
       "      <th>2</th>\n",
       "      <td>3</td>\n",
       "      <td>George Barret Jr.</td>\n",
       "      <td>George Barret Jr. (1767–1842), sometimes refer...</td>\n",
       "      <td>https://en.wikipedia.org/wiki/George_Barret_Jr.</td>\n",
       "      <td>27</td>\n",
       "    </tr>\n",
       "    <tr>\n",
       "      <th>3</th>\n",
       "      <td>4</td>\n",
       "      <td>George Barret Sr.</td>\n",
       "      <td>George Barret Sr.  (c. 1730 – 29 May 1784) was...</td>\n",
       "      <td>https://en.wikipedia.org/wiki/George_Barret_Sr.</td>\n",
       "      <td>263</td>\n",
       "    </tr>\n",
       "    <tr>\n",
       "      <th>4</th>\n",
       "      <td>5</td>\n",
       "      <td>Henry Ives Cobb Jr.</td>\n",
       "      <td>Henry Ives Cobb Jr. (March 24, 1883 – August 1...</td>\n",
       "      <td>https://en.wikipedia.org/wiki/Henry_Ives_Cobb_Jr.</td>\n",
       "      <td>71</td>\n",
       "    </tr>\n",
       "    <tr>\n",
       "      <th>5</th>\n",
       "      <td>6</td>\n",
       "      <td>John Byrne (English artist)</td>\n",
       "      <td>John Byrne (1786–1847) was an English painter ...</td>\n",
       "      <td>https://en.wikipedia.org/wiki/John_Byrne_(Engl...</td>\n",
       "      <td>29</td>\n",
       "    </tr>\n",
       "    <tr>\n",
       "      <th>6</th>\n",
       "      <td>7</td>\n",
       "      <td>John Frederick Herring Jr.</td>\n",
       "      <td>John Frederick Herring Jr. (1820–1907) was an ...</td>\n",
       "      <td>https://en.wikipedia.org/wiki/John_Frederick_H...</td>\n",
       "      <td>17</td>\n",
       "    </tr>\n",
       "    <tr>\n",
       "      <th>7</th>\n",
       "      <td>8</td>\n",
       "      <td>John Frederick Herring Sr.</td>\n",
       "      <td>John Frederick Herring Sr. (12 September 1795 ...</td>\n",
       "      <td>https://en.wikipedia.org/wiki/John_Frederick_H...</td>\n",
       "      <td>61</td>\n",
       "    </tr>\n",
       "    <tr>\n",
       "      <th>8</th>\n",
       "      <td>9</td>\n",
       "      <td>A. B. Jackson (painter)</td>\n",
       "      <td>Alexander Brooks Jackson (April 18, 1925 – Mar...</td>\n",
       "      <td>https://en.wikipedia.org/wiki/A._B._Jackson_(p...</td>\n",
       "      <td>14</td>\n",
       "    </tr>\n",
       "    <tr>\n",
       "      <th>9</th>\n",
       "      <td>10</td>\n",
       "      <td>A. J. Casson</td>\n",
       "      <td>Alfred Joseph Casson  (May 17, 1898 – February...</td>\n",
       "      <td>https://en.wikipedia.org/wiki/A._J._Casson</td>\n",
       "      <td>66</td>\n",
       "    </tr>\n",
       "  </tbody>\n",
       "</table>\n",
       "</div>"
      ],
      "text/plain": [
       "   painter_id                 painter_name  \\\n",
       "0           1    Alfred Richard Gurrey Sr.   \n",
       "1           2    Edward Otho Cresap Ord II   \n",
       "2           3            George Barret Jr.   \n",
       "3           4            George Barret Sr.   \n",
       "4           5          Henry Ives Cobb Jr.   \n",
       "5           6  John Byrne (English artist)   \n",
       "6           7   John Frederick Herring Jr.   \n",
       "7           8   John Frederick Herring Sr.   \n",
       "8           9      A. B. Jackson (painter)   \n",
       "9          10                 A. J. Casson   \n",
       "\n",
       "                                             summary  \\\n",
       "0  Alfred Richard Gurrey Sr.  (1852–1944) was an ...   \n",
       "1  Edward Otho Cresap Ord, II (November 9, 1858 –...   \n",
       "2  George Barret Jr. (1767–1842), sometimes refer...   \n",
       "3  George Barret Sr.  (c. 1730 – 29 May 1784) was...   \n",
       "4  Henry Ives Cobb Jr. (March 24, 1883 – August 1...   \n",
       "5  John Byrne (1786–1847) was an English painter ...   \n",
       "6  John Frederick Herring Jr. (1820–1907) was an ...   \n",
       "7  John Frederick Herring Sr. (12 September 1795 ...   \n",
       "8  Alexander Brooks Jackson (April 18, 1925 – Mar...   \n",
       "9  Alfred Joseph Casson  (May 17, 1898 – February...   \n",
       "\n",
       "                                                 url  summary_length  \n",
       "0  https://en.wikipedia.org/wiki/Alfred_Richard_G...             164  \n",
       "1  https://en.wikipedia.org/wiki/Edward_Otho_Cres...              84  \n",
       "2    https://en.wikipedia.org/wiki/George_Barret_Jr.              27  \n",
       "3    https://en.wikipedia.org/wiki/George_Barret_Sr.             263  \n",
       "4  https://en.wikipedia.org/wiki/Henry_Ives_Cobb_Jr.              71  \n",
       "5  https://en.wikipedia.org/wiki/John_Byrne_(Engl...              29  \n",
       "6  https://en.wikipedia.org/wiki/John_Frederick_H...              17  \n",
       "7  https://en.wikipedia.org/wiki/John_Frederick_H...              61  \n",
       "8  https://en.wikipedia.org/wiki/A._B._Jackson_(p...              14  \n",
       "9         https://en.wikipedia.org/wiki/A._J._Casson              66  "
      ]
     },
     "execution_count": 51,
     "metadata": {},
     "output_type": "execute_result"
    }
   ],
   "source": [
    "painter_summaries_clean[\"summary_length\"] = painter_summaries_clean[\"summary\"].apply(count_words)\n",
    "\n",
    "painter_summaries_clean.head(10)"
   ]
  },
  {
   "cell_type": "markdown",
   "id": "b6c948b4",
   "metadata": {},
   "source": [
    "We'll save the data as it is now and then we can work with these summaries."
   ]
  },
  {
   "cell_type": "code",
   "execution_count": 52,
   "id": "648011d5",
   "metadata": {},
   "outputs": [],
   "source": [
    "painter_summaries_clean.to_csv(\"data/painter_summaries_clean.csv\", index=False)"
   ]
  },
  {
   "cell_type": "markdown",
   "id": "866ca461",
   "metadata": {},
   "source": [
    "\n",
    "---\n",
    "\n",
    "## 4.2 - Sentence Similarity\n",
    "\n",
    "Let's take a step back and think about where we want to end up and where we are currently. Right now we have a dataset of biographies of different painters (with some differences in length). We want to end up with a visual of the painters clustered based on their biographies.\n",
    "\n",
    "We could manually take each biography and interpret the text and try to group the painters ourselves. In some cases we might group painters by their nationality (e.g., Dutch painters), their style (e.g. Surrealist painters), their subject matter (e.g, still life painters), or the time period they lived in (e.g. Renaissance painters). \n",
    "\n",
    "<div class=\"alert alert-info\">\n",
    "<b>Instruction:</b> How many painter biographies would you go through before getting bored?\n",
    "</div>"
   ]
  },
  {
   "cell_type": "markdown",
   "id": "54945fde",
   "metadata": {},
   "source": [
    "**@@YOUR ANSWER HERE@@**"
   ]
  },
  {
   "cell_type": "markdown",
   "id": "cb027d67",
   "metadata": {},
   "source": [
    "We can use machine learning to assist us in clustering these biographies by comparing how similar or different the summaries are. This task is also known as Sentence Similarity and you can read more about it here: [https://huggingface.co/tasks/sentence-similarity](https://huggingface.co/tasks/sentence-similarity). \n",
    "\n",
    "For now we'll play a bit with the widget on the page. First let's get a series of painter summaries to work with. I picked names that might have some obvious groupings so we can do sanity checks as we work."
   ]
  },
  {
   "cell_type": "code",
   "execution_count": 53,
   "id": "ce7db487",
   "metadata": {},
   "outputs": [
    {
     "data": {
      "text/html": [
       "<div>\n",
       "<style scoped>\n",
       "    .dataframe tbody tr th:only-of-type {\n",
       "        vertical-align: middle;\n",
       "    }\n",
       "\n",
       "    .dataframe tbody tr th {\n",
       "        vertical-align: top;\n",
       "    }\n",
       "\n",
       "    .dataframe thead th {\n",
       "        text-align: right;\n",
       "    }\n",
       "</style>\n",
       "<table border=\"1\" class=\"dataframe\">\n",
       "  <thead>\n",
       "    <tr style=\"text-align: right;\">\n",
       "      <th></th>\n",
       "      <th>painter_name</th>\n",
       "      <th>summary</th>\n",
       "    </tr>\n",
       "  </thead>\n",
       "  <tbody>\n",
       "    <tr>\n",
       "      <th>116</th>\n",
       "      <td>Albrecht Dürer</td>\n",
       "      <td>Albrecht Dürer (; German: [ˈʔalbʁɛçt ˈdyːʁɐ]; ...</td>\n",
       "    </tr>\n",
       "    <tr>\n",
       "      <th>255</th>\n",
       "      <td>Andy Warhol</td>\n",
       "      <td>Andy Warhol (; born Andrew Warhola Jr.; August...</td>\n",
       "    </tr>\n",
       "    <tr>\n",
       "      <th>1559</th>\n",
       "      <td>Hokusai</td>\n",
       "      <td>Katsushika Hokusai (葛飾 北斎, c. 31 October 1760 ...</td>\n",
       "    </tr>\n",
       "    <tr>\n",
       "      <th>1936</th>\n",
       "      <td>Joaquín Sorolla</td>\n",
       "      <td>Joaquín Sorolla y Bastida (Valencian: Joaquim ...</td>\n",
       "    </tr>\n",
       "    <tr>\n",
       "      <th>1975</th>\n",
       "      <td>Johannes Vermeer</td>\n",
       "      <td>Johannes Vermeer (, Dutch: [vərˈmeːr], see bel...</td>\n",
       "    </tr>\n",
       "    <tr>\n",
       "      <th>2375</th>\n",
       "      <td>Leonardo da Vinci</td>\n",
       "      <td>Leonardo di ser Piero da Vinci (15 April 1452 ...</td>\n",
       "    </tr>\n",
       "    <tr>\n",
       "      <th>2685</th>\n",
       "      <td>Michelangelo</td>\n",
       "      <td>Michelangelo di Lodovico Buonarroti Simoni (It...</td>\n",
       "    </tr>\n",
       "    <tr>\n",
       "      <th>2874</th>\n",
       "      <td>Pablo Picasso</td>\n",
       "      <td>Pablo Ruiz Picasso (25 October 1881 – 8 April ...</td>\n",
       "    </tr>\n",
       "    <tr>\n",
       "      <th>3062</th>\n",
       "      <td>Raphael</td>\n",
       "      <td>Raffaello Sanzio da Urbino (Italian: [raffaˈɛl...</td>\n",
       "    </tr>\n",
       "    <tr>\n",
       "      <th>3263</th>\n",
       "      <td>Salvador Dalí</td>\n",
       "      <td>Salvador Domingo Felipe Jacinto Dalí i Domènec...</td>\n",
       "    </tr>\n",
       "    <tr>\n",
       "      <th>3284</th>\n",
       "      <td>Sandro Botticelli</td>\n",
       "      <td>Alessandro di Mariano di Vanni Filipepi (c. 14...</td>\n",
       "    </tr>\n",
       "    <tr>\n",
       "      <th>3522</th>\n",
       "      <td>Titian</td>\n",
       "      <td>Tiziano Vecelli or Vecellio (pronounced [titˈt...</td>\n",
       "    </tr>\n",
       "    <tr>\n",
       "      <th>3634</th>\n",
       "      <td>Vincent van Gogh</td>\n",
       "      <td>Vincent Willem van Gogh (Dutch: [ˈvɪnsɛnt ˈʋɪl...</td>\n",
       "    </tr>\n",
       "  </tbody>\n",
       "</table>\n",
       "</div>"
      ],
      "text/plain": [
       "           painter_name                                            summary\n",
       "116      Albrecht Dürer  Albrecht Dürer (; German: [ˈʔalbʁɛçt ˈdyːʁɐ]; ...\n",
       "255         Andy Warhol  Andy Warhol (; born Andrew Warhola Jr.; August...\n",
       "1559            Hokusai  Katsushika Hokusai (葛飾 北斎, c. 31 October 1760 ...\n",
       "1936    Joaquín Sorolla  Joaquín Sorolla y Bastida (Valencian: Joaquim ...\n",
       "1975   Johannes Vermeer  Johannes Vermeer (, Dutch: [vərˈmeːr], see bel...\n",
       "2375  Leonardo da Vinci  Leonardo di ser Piero da Vinci (15 April 1452 ...\n",
       "2685       Michelangelo  Michelangelo di Lodovico Buonarroti Simoni (It...\n",
       "2874      Pablo Picasso  Pablo Ruiz Picasso (25 October 1881 – 8 April ...\n",
       "3062            Raphael  Raffaello Sanzio da Urbino (Italian: [raffaˈɛl...\n",
       "3263      Salvador Dalí  Salvador Domingo Felipe Jacinto Dalí i Domènec...\n",
       "3284  Sandro Botticelli  Alessandro di Mariano di Vanni Filipepi (c. 14...\n",
       "3522             Titian  Tiziano Vecelli or Vecellio (pronounced [titˈt...\n",
       "3634   Vincent van Gogh  Vincent Willem van Gogh (Dutch: [ˈvɪnsɛnt ˈʋɪl..."
      ]
     },
     "execution_count": 53,
     "metadata": {},
     "output_type": "execute_result"
    }
   ],
   "source": [
    "select_painter_names = [\n",
    "    \"Albrecht Dürer\",\n",
    "    \"Leonardo da Vinci\",\n",
    "    \"Michelangelo\",\n",
    "    \"Raphael\",\n",
    "    \"Titian\",\n",
    "    \"Joaquín Sorolla\",\n",
    "    \"Pablo Picasso\",\n",
    "    \"Salvador Dalí\",\n",
    "    \"Andy Warhol\",\n",
    "    \"Vincent van Gogh\",\n",
    "    \"Johannes Vermeer\",\n",
    "    \"Sandro Botticelli\",\n",
    "    \"Hokusai\"\n",
    "]\n",
    "\n",
    "select_painter_bios = painter_summaries_clean[\n",
    "    painter_summaries_clean[\"painter_name\"].isin(select_painter_names)\n",
    "]\n",
    "\n",
    "# For this short dataset, we don't care about the other columns.\n",
    "select_painter_bios = select_painter_bios[[\"painter_name\", \"summary\"]]\n",
    "select_painter_bios"
   ]
  },
  {
   "cell_type": "markdown",
   "id": "8bd9b160",
   "metadata": {},
   "source": [
    "<div class=\"alert alert-info\">\n",
    "<b>Instruction:</b> Cluster the 13 painters based on what you may know, can quickly read about them.\n",
    "</div>"
   ]
  },
  {
   "cell_type": "markdown",
   "id": "05956262",
   "metadata": {},
   "source": [
    "**@@YOUR ANSWER HERE@@**"
   ]
  },
  {
   "cell_type": "markdown",
   "id": "b6460ee1",
   "metadata": {},
   "source": [
    "Now let's play with the sentence similarity widget on Hugging face. For that we'll need the full summaries for each painter. I will save the previous table to a CSV for faster copy+paste, but you can also use the Python code under that to get the bios for a particular artist"
   ]
  },
  {
   "cell_type": "code",
   "execution_count": 54,
   "id": "eb5161ea",
   "metadata": {},
   "outputs": [],
   "source": [
    "select_painter_bios.to_csv(\"data/select_painter_bios.csv\", index=False)"
   ]
  },
  {
   "cell_type": "code",
   "execution_count": 55,
   "id": "0764c824",
   "metadata": {},
   "outputs": [
    {
     "data": {
      "text/plain": [
       "\"Vincent Willem van Gogh (Dutch: [ˈvɪnsɛnt ˈʋɪləɱ‿vɑŋ‿ˈɣɔx] ; 30 March 1853 – 29 July 1890) was a Dutch Post-Impressionist painter who is among the most famous and influential figures in the history of Western art. In just over a decade, he created approximately 2100 artworks, including around 860 oil paintings, most of them in the last two years of his life. His oeuvre includes landscapes, still lifes, portraits, and self-portraits, most of which are characterized by bold colors and dramatic brushwork that contributed to the rise of expressionism in modern art. Van Gogh's work was beginning to gain critical attention before he died from a self-inflicted gunshot at age 37. During his lifetime, only one of Van Gogh's paintings, The Red Vineyard, was sold. \\r\\nBorn into an upper-middle-class family, Van Gogh drew as a child and was serious, quiet and thoughtful, but showed signs of mental instability. As a young man, he worked as an art dealer, often travelling, but became depressed after he was transferred to London. He turned to religion and spent time as a missionary in southern Belgium. Later he drifted into ill-health and solitude. He was keenly aware of modernist trends in art and, while back with his parents, took up painting in 1881. His younger brother, Theo, supported him financially, and the two of them maintained a long correspondence.\\r\\nVan Gogh's early works consist of mostly still lifes and depictions of peasant laborers. In 1886, he moved to Paris, where he met members of the artistic avant-garde, including Émile Bernard and Paul Gauguin, who were seeking new paths beyond Impressionism. Frustrated in Paris and inspired by a growing spirit of artistic change and collaboration, in February 1888, Van Gogh moved to Arles in southern France to establish an artistic retreat and commune. Once there, Van Gogh's art changed. His paintings grew brighter and he turned his attention to the natural world, depicting local olive groves, wheat fields and sunflowers. Van Gogh invited Gauguin to join him in Arles and eagerly anticipated Gauguin's arrival in the fall of 1888.\\r\\nVan Gogh suffered from psychotic episodes and delusions. Though he worried about his mental stability, he often neglected his physical health, did not eat properly and drank heavily. His friendship with Gauguin ended after a confrontation with a razor when, in a rage, he severed his left ear. Van Gogh spent time in psychiatric hospitals, including a period at Saint-Rémy. After he discharged himself and moved to the Auberge Ravoux in Auvers-sur-Oise near Paris, he came under the care of the homeopathic doctor Paul Gachet. His depression persisted, and on 27 July 1890, Van Gogh is believed to have shot himself in the chest with a revolver, dying from his injuries two days later.\\r\\nVan Gogh's work began to attract critical artistic attention in the last year of his life. After his death, Van Gogh's art and life story captured public imagination as an emblem of misunderstood genius, due in large part to the efforts of his widowed sister-in-law Johanna van Gogh-Bonger. His bold use of color, expressive line and thick application of paint inspired avant-garde artistic groups like the Fauves and German Expressionists in the early 20th century. Van Gogh's work gained widespread critical and commercial success in the following decades, and he has become a lasting icon of the romantic ideal of the tortured artist. Today, Van Gogh's works are among the world's most expensive paintings ever sold. His legacy is honored and celebrated by the Van Gogh Museum in Amsterdam, which holds the world's largest collection of his paintings and drawings.\""
      ]
     },
     "execution_count": 55,
     "metadata": {},
     "output_type": "execute_result"
    }
   ],
   "source": [
    "painter_name = \"Vincent van Gogh\"\n",
    "select_painter_bios[select_painter_bios[\"painter_name\"] == painter_name][\"summary\"].values[0]"
   ]
  },
  {
   "cell_type": "markdown",
   "id": "52325078",
   "metadata": {
    "vscode": {
     "languageId": "html"
    }
   },
   "source": [
    "<div class=\"alert alert-info\">\n",
    "<b>Instruction:</b> Pick 5 painters from our test set. Put their bios in the <a href=\"https://huggingface.co/tasks/sentence-similarity\">Sentence Similarity demo</a> and write down the values. Then add your interpretation of the values. Are they high or low? Why might that be? Fill in the table below:\n",
    "</div>"
   ]
  },
  {
   "cell_type": "markdown",
   "id": "dabd5d01",
   "metadata": {},
   "source": [
    "| painter_name  | similarity_score | Interpretation                                          |\n",
    "|---------------|-----------------:|---------------------------------------------------------|\n",
    "| SOURCE NAME |               -- | The first painter is the source and does not get a score |\n",
    "| PAINTER NAME   |         Score @@ | Interpretation here @@                                  |\n",
    "| PAINTER NAME   |         Score @@ | Interpretation here @@                                  |\n",
    "| PAINTER NAME   |         Score @@ | Interpretation here @@                                  |\n",
    "| PAINTER NAME   |         Score @@ | Interpretation here @@                                  |"
   ]
  },
  {
   "cell_type": "markdown",
   "id": "e7b2b4be",
   "metadata": {},
   "source": [
    "This Sentence Similarity demo is quite cool. It takes each summary and converts it into an **embedding**, a numerical vector representation of the text that does a good job of capturing the semantics of the text. This is the part connected to machine learning. In the demo, the pre-trained model `all-MiniLM-L6-v2` is used to compute the embeddings. We'll work with this same model below.\n",
    "\n",
    "Once all the embeddings are computed, then it's a math game. The demo takes the source embedding (whichever artist you introduced first) and compares that embedding with each of the other embeddings in pairs. For each pair that is compared, say *source_painter* and *painter_1*, it produces a score between 0 and 1, where 0 means there is no similarity, and 1 means they are identical. There are many ways to compute similarity and a popular one is Cosine Similarity. There is some info on the demo page linked above, but reproduced here:\n",
    ">     The similarity of the embeddings is evaluated mainly on cosine similarity. It is calculated as the cosine of the angle between two vectors. It is particularly useful when your texts are not the same length\n",
    "\n",
    "---\n",
    "\n",
    "## 4.3 - Visualizing the `select_painter_bios`\n",
    "\n",
    "### Create embeddings\n",
    "The first step to being able to cluster and visualize the painters is to compute the embeddings. We will do this as an extra column in our dataframe of `select_painter_bios`"
   ]
  },
  {
   "cell_type": "code",
   "execution_count": 56,
   "id": "58e52934",
   "metadata": {},
   "outputs": [
    {
     "name": "stderr",
     "output_type": "stream",
     "text": [
      "/opt/miniconda3/lib/python3.12/site-packages/huggingface_hub/file_download.py:1132: FutureWarning: `resume_download` is deprecated and will be removed in version 1.0.0. Downloads always resume when possible. If you want to force a new download, use `force_download=True`.\n",
      "  warnings.warn(\n"
     ]
    },
    {
     "data": {
      "text/html": [
       "<div>\n",
       "<style scoped>\n",
       "    .dataframe tbody tr th:only-of-type {\n",
       "        vertical-align: middle;\n",
       "    }\n",
       "\n",
       "    .dataframe tbody tr th {\n",
       "        vertical-align: top;\n",
       "    }\n",
       "\n",
       "    .dataframe thead th {\n",
       "        text-align: right;\n",
       "    }\n",
       "</style>\n",
       "<table border=\"1\" class=\"dataframe\">\n",
       "  <thead>\n",
       "    <tr style=\"text-align: right;\">\n",
       "      <th></th>\n",
       "      <th>painter_name</th>\n",
       "      <th>summary</th>\n",
       "      <th>embeddings</th>\n",
       "    </tr>\n",
       "  </thead>\n",
       "  <tbody>\n",
       "    <tr>\n",
       "      <th>116</th>\n",
       "      <td>Albrecht Dürer</td>\n",
       "      <td>Albrecht Dürer (; German: [ˈʔalbʁɛçt ˈdyːʁɐ]; ...</td>\n",
       "      <td>[-0.056997984647750854, 0.024535084143280983, ...</td>\n",
       "    </tr>\n",
       "    <tr>\n",
       "      <th>255</th>\n",
       "      <td>Andy Warhol</td>\n",
       "      <td>Andy Warhol (; born Andrew Warhola Jr.; August...</td>\n",
       "      <td>[0.0025709313340485096, -0.08942723274230957, ...</td>\n",
       "    </tr>\n",
       "    <tr>\n",
       "      <th>1559</th>\n",
       "      <td>Hokusai</td>\n",
       "      <td>Katsushika Hokusai (葛飾 北斎, c. 31 October 1760 ...</td>\n",
       "      <td>[-0.024148855358362198, 0.04442296922206879, -...</td>\n",
       "    </tr>\n",
       "    <tr>\n",
       "      <th>1936</th>\n",
       "      <td>Joaquín Sorolla</td>\n",
       "      <td>Joaquín Sorolla y Bastida (Valencian: Joaquim ...</td>\n",
       "      <td>[0.04648873955011368, 0.08807677775621414, -0....</td>\n",
       "    </tr>\n",
       "    <tr>\n",
       "      <th>1975</th>\n",
       "      <td>Johannes Vermeer</td>\n",
       "      <td>Johannes Vermeer (, Dutch: [vərˈmeːr], see bel...</td>\n",
       "      <td>[0.0292351171374321, 0.08469347655773163, -0.0...</td>\n",
       "    </tr>\n",
       "    <tr>\n",
       "      <th>2375</th>\n",
       "      <td>Leonardo da Vinci</td>\n",
       "      <td>Leonardo di ser Piero da Vinci (15 April 1452 ...</td>\n",
       "      <td>[-0.049784105271101, -0.0011410464067012072, 0...</td>\n",
       "    </tr>\n",
       "    <tr>\n",
       "      <th>2685</th>\n",
       "      <td>Michelangelo</td>\n",
       "      <td>Michelangelo di Lodovico Buonarroti Simoni (It...</td>\n",
       "      <td>[0.01565895415842533, 0.09450660645961761, 0.0...</td>\n",
       "    </tr>\n",
       "    <tr>\n",
       "      <th>2874</th>\n",
       "      <td>Pablo Picasso</td>\n",
       "      <td>Pablo Ruiz Picasso (25 October 1881 – 8 April ...</td>\n",
       "      <td>[-0.013010181486606598, 0.016082225367426872, ...</td>\n",
       "    </tr>\n",
       "    <tr>\n",
       "      <th>3062</th>\n",
       "      <td>Raphael</td>\n",
       "      <td>Raffaello Sanzio da Urbino (Italian: [raffaˈɛl...</td>\n",
       "      <td>[-0.04124732315540314, -0.0005537216202355921,...</td>\n",
       "    </tr>\n",
       "    <tr>\n",
       "      <th>3263</th>\n",
       "      <td>Salvador Dalí</td>\n",
       "      <td>Salvador Domingo Felipe Jacinto Dalí i Domènec...</td>\n",
       "      <td>[0.0810016617178917, -0.022114435210824013, -0...</td>\n",
       "    </tr>\n",
       "    <tr>\n",
       "      <th>3284</th>\n",
       "      <td>Sandro Botticelli</td>\n",
       "      <td>Alessandro di Mariano di Vanni Filipepi (c. 14...</td>\n",
       "      <td>[-0.02803158015012741, 0.02716502733528614, 0....</td>\n",
       "    </tr>\n",
       "    <tr>\n",
       "      <th>3522</th>\n",
       "      <td>Titian</td>\n",
       "      <td>Tiziano Vecelli or Vecellio (pronounced [titˈt...</td>\n",
       "      <td>[-0.04871152341365814, 0.03751521557569504, -0...</td>\n",
       "    </tr>\n",
       "    <tr>\n",
       "      <th>3634</th>\n",
       "      <td>Vincent van Gogh</td>\n",
       "      <td>Vincent Willem van Gogh (Dutch: [ˈvɪnsɛnt ˈʋɪl...</td>\n",
       "      <td>[0.08493974059820175, 0.03074062615633011, 0.0...</td>\n",
       "    </tr>\n",
       "  </tbody>\n",
       "</table>\n",
       "</div>"
      ],
      "text/plain": [
       "           painter_name                                            summary  \\\n",
       "116      Albrecht Dürer  Albrecht Dürer (; German: [ˈʔalbʁɛçt ˈdyːʁɐ]; ...   \n",
       "255         Andy Warhol  Andy Warhol (; born Andrew Warhola Jr.; August...   \n",
       "1559            Hokusai  Katsushika Hokusai (葛飾 北斎, c. 31 October 1760 ...   \n",
       "1936    Joaquín Sorolla  Joaquín Sorolla y Bastida (Valencian: Joaquim ...   \n",
       "1975   Johannes Vermeer  Johannes Vermeer (, Dutch: [vərˈmeːr], see bel...   \n",
       "2375  Leonardo da Vinci  Leonardo di ser Piero da Vinci (15 April 1452 ...   \n",
       "2685       Michelangelo  Michelangelo di Lodovico Buonarroti Simoni (It...   \n",
       "2874      Pablo Picasso  Pablo Ruiz Picasso (25 October 1881 – 8 April ...   \n",
       "3062            Raphael  Raffaello Sanzio da Urbino (Italian: [raffaˈɛl...   \n",
       "3263      Salvador Dalí  Salvador Domingo Felipe Jacinto Dalí i Domènec...   \n",
       "3284  Sandro Botticelli  Alessandro di Mariano di Vanni Filipepi (c. 14...   \n",
       "3522             Titian  Tiziano Vecelli or Vecellio (pronounced [titˈt...   \n",
       "3634   Vincent van Gogh  Vincent Willem van Gogh (Dutch: [ˈvɪnsɛnt ˈʋɪl...   \n",
       "\n",
       "                                             embeddings  \n",
       "116   [-0.056997984647750854, 0.024535084143280983, ...  \n",
       "255   [0.0025709313340485096, -0.08942723274230957, ...  \n",
       "1559  [-0.024148855358362198, 0.04442296922206879, -...  \n",
       "1936  [0.04648873955011368, 0.08807677775621414, -0....  \n",
       "1975  [0.0292351171374321, 0.08469347655773163, -0.0...  \n",
       "2375  [-0.049784105271101, -0.0011410464067012072, 0...  \n",
       "2685  [0.01565895415842533, 0.09450660645961761, 0.0...  \n",
       "2874  [-0.013010181486606598, 0.016082225367426872, ...  \n",
       "3062  [-0.04124732315540314, -0.0005537216202355921,...  \n",
       "3263  [0.0810016617178917, -0.022114435210824013, -0...  \n",
       "3284  [-0.02803158015012741, 0.02716502733528614, 0....  \n",
       "3522  [-0.04871152341365814, 0.03751521557569504, -0...  \n",
       "3634  [0.08493974059820175, 0.03074062615633011, 0.0...  "
      ]
     },
     "execution_count": 56,
     "metadata": {},
     "output_type": "execute_result"
    }
   ],
   "source": [
    "from sentence_transformers import SentenceTransformer\n",
    "\n",
    "# Load the pre-trained model\n",
    "model = SentenceTransformer(\"all-MiniLM-L6-v2\")\n",
    "\n",
    "select_painter_bios[\"embeddings\"] = select_painter_bios[\"summary\"].apply(\n",
    "    lambda x: model.encode(x).tolist()\n",
    ")\n",
    "select_painter_bios"
   ]
  },
  {
   "cell_type": "markdown",
   "id": "585ead64",
   "metadata": {},
   "source": [
    "<div class=\"alert alert-info\">\n",
    "<b>Instruction:</b> Save the dataframe with the embeddings as <em>select_painter_embeddings.csv</em>\n",
    "</div>"
   ]
  },
  {
   "cell_type": "code",
   "execution_count": 57,
   "id": "b4388331",
   "metadata": {},
   "outputs": [],
   "source": [
    "# YOUR CODE HERE\n",
    "# raise NotImplementedError()\n",
    "select_painter_bios.to_csv(\"data/select_painter_embeddings.csv\", index=False)"
   ]
  },
  {
   "cell_type": "markdown",
   "id": "40459c6b",
   "metadata": {},
   "source": [
    "We have created our embeddings using the specific model, `all-MiniLM-L6-v2`. That is one of many many models we can use. See a full list here: [https://huggingface.co/models?library=sentence-transformers&author=sentence-transformers](https://huggingface.co/models?library=sentence-transformers&author=sentence-transformers).\n",
    "\n",
    "<div class=\"alert alert-info\">\n",
    "<b>Instruction:</b> Pick a model from the link above and create a new set of embeddings. Name that new column <em>embeddings2</em>. Fill in the table below, and save the data for that run as well.\n",
    "</div>"
   ]
  },
  {
   "cell_type": "markdown",
   "id": "55614048",
   "metadata": {},
   "source": [
    "| What model did you pick? | How long are the vectors? (read the description of the model) |\n",
    "|--------------------------|---------------------------------------------------------------|\n",
    "| all-MiniLM-L6-v2 @@REPLACE WITH YOUR CHOICE@@ | 384 @@REPLACE WITH THE VALUE RELATED TO YOUR CHOICE@@ |"
   ]
  },
  {
   "cell_type": "code",
   "execution_count": 79,
   "id": "32e8d34a",
   "metadata": {},
   "outputs": [
    {
     "name": "stderr",
     "output_type": "stream",
     "text": [
      "/opt/miniconda3/lib/python3.12/site-packages/huggingface_hub/file_download.py:1132: FutureWarning: `resume_download` is deprecated and will be removed in version 1.0.0. Downloads always resume when possible. If you want to force a new download, use `force_download=True`.\n",
      "  warnings.warn(\n"
     ]
    },
    {
     "data": {
      "text/html": [
       "<div>\n",
       "<style scoped>\n",
       "    .dataframe tbody tr th:only-of-type {\n",
       "        vertical-align: middle;\n",
       "    }\n",
       "\n",
       "    .dataframe tbody tr th {\n",
       "        vertical-align: top;\n",
       "    }\n",
       "\n",
       "    .dataframe thead th {\n",
       "        text-align: right;\n",
       "    }\n",
       "</style>\n",
       "<table border=\"1\" class=\"dataframe\">\n",
       "  <thead>\n",
       "    <tr style=\"text-align: right;\">\n",
       "      <th></th>\n",
       "      <th>painter_name</th>\n",
       "      <th>summary</th>\n",
       "      <th>embeddings</th>\n",
       "      <th>embeddings2</th>\n",
       "    </tr>\n",
       "  </thead>\n",
       "  <tbody>\n",
       "    <tr>\n",
       "      <th>116</th>\n",
       "      <td>Albrecht Dürer</td>\n",
       "      <td>Albrecht Dürer (; German: [ˈʔalbʁɛçt ˈdyːʁɐ]; ...</td>\n",
       "      <td>[-0.056997984647750854, 0.024535084143280983, ...</td>\n",
       "      <td>[-0.028985479846596718, 0.30463314056396484, 0...</td>\n",
       "    </tr>\n",
       "    <tr>\n",
       "      <th>255</th>\n",
       "      <td>Andy Warhol</td>\n",
       "      <td>Andy Warhol (; born Andrew Warhola Jr.; August...</td>\n",
       "      <td>[0.0025709313340485096, -0.08942723274230957, ...</td>\n",
       "      <td>[0.21260204911231995, 0.24627937376499176, 0.0...</td>\n",
       "    </tr>\n",
       "    <tr>\n",
       "      <th>1559</th>\n",
       "      <td>Hokusai</td>\n",
       "      <td>Katsushika Hokusai (葛飾 北斎, c. 31 October 1760 ...</td>\n",
       "      <td>[-0.024148855358362198, 0.04442296922206879, -...</td>\n",
       "      <td>[-0.041256651282310486, 0.08839588612318039, 0...</td>\n",
       "    </tr>\n",
       "    <tr>\n",
       "      <th>1936</th>\n",
       "      <td>Joaquín Sorolla</td>\n",
       "      <td>Joaquín Sorolla y Bastida (Valencian: Joaquim ...</td>\n",
       "      <td>[0.04648873955011368, 0.08807677775621414, -0....</td>\n",
       "      <td>[-0.0851181149482727, 0.18426494300365448, 0.4...</td>\n",
       "    </tr>\n",
       "    <tr>\n",
       "      <th>1975</th>\n",
       "      <td>Johannes Vermeer</td>\n",
       "      <td>Johannes Vermeer (, Dutch: [vərˈmeːr], see bel...</td>\n",
       "      <td>[0.0292351171374321, 0.08469347655773163, -0.0...</td>\n",
       "      <td>[-0.021375127136707306, 0.16360527276992798, 0...</td>\n",
       "    </tr>\n",
       "    <tr>\n",
       "      <th>2375</th>\n",
       "      <td>Leonardo da Vinci</td>\n",
       "      <td>Leonardo di ser Piero da Vinci (15 April 1452 ...</td>\n",
       "      <td>[-0.049784105271101, -0.0011410464067012072, 0...</td>\n",
       "      <td>[0.13558390736579895, 0.034301578998565674, 0....</td>\n",
       "    </tr>\n",
       "    <tr>\n",
       "      <th>2685</th>\n",
       "      <td>Michelangelo</td>\n",
       "      <td>Michelangelo di Lodovico Buonarroti Simoni (It...</td>\n",
       "      <td>[0.01565895415842533, 0.09450660645961761, 0.0...</td>\n",
       "      <td>[0.1159994974732399, 0.23528455197811127, 0.54...</td>\n",
       "    </tr>\n",
       "    <tr>\n",
       "      <th>2874</th>\n",
       "      <td>Pablo Picasso</td>\n",
       "      <td>Pablo Ruiz Picasso (25 October 1881 – 8 April ...</td>\n",
       "      <td>[-0.013010181486606598, 0.016082225367426872, ...</td>\n",
       "      <td>[-0.10371260344982147, 0.4012528657913208, 0.2...</td>\n",
       "    </tr>\n",
       "    <tr>\n",
       "      <th>3062</th>\n",
       "      <td>Raphael</td>\n",
       "      <td>Raffaello Sanzio da Urbino (Italian: [raffaˈɛl...</td>\n",
       "      <td>[-0.04124732315540314, -0.0005537216202355921,...</td>\n",
       "      <td>[0.1412470042705536, 0.26519975066185, 0.48621...</td>\n",
       "    </tr>\n",
       "    <tr>\n",
       "      <th>3263</th>\n",
       "      <td>Salvador Dalí</td>\n",
       "      <td>Salvador Domingo Felipe Jacinto Dalí i Domènec...</td>\n",
       "      <td>[0.0810016617178917, -0.022114435210824013, -0...</td>\n",
       "      <td>[-0.04626660421490669, 0.2813034653663635, 0.3...</td>\n",
       "    </tr>\n",
       "    <tr>\n",
       "      <th>3284</th>\n",
       "      <td>Sandro Botticelli</td>\n",
       "      <td>Alessandro di Mariano di Vanni Filipepi (c. 14...</td>\n",
       "      <td>[-0.02803158015012741, 0.02716502733528614, 0....</td>\n",
       "      <td>[0.07810968160629272, 0.05351052060723305, 0.5...</td>\n",
       "    </tr>\n",
       "    <tr>\n",
       "      <th>3522</th>\n",
       "      <td>Titian</td>\n",
       "      <td>Tiziano Vecelli or Vecellio (pronounced [titˈt...</td>\n",
       "      <td>[-0.04871152341365814, 0.03751521557569504, -0...</td>\n",
       "      <td>[0.05105525627732277, -0.05315089598298073, 0....</td>\n",
       "    </tr>\n",
       "    <tr>\n",
       "      <th>3634</th>\n",
       "      <td>Vincent van Gogh</td>\n",
       "      <td>Vincent Willem van Gogh (Dutch: [ˈvɪnsɛnt ˈʋɪl...</td>\n",
       "      <td>[0.08493974059820175, 0.03074062615633011, 0.0...</td>\n",
       "      <td>[-0.025301480665802956, 0.16944420337677002, 0...</td>\n",
       "    </tr>\n",
       "  </tbody>\n",
       "</table>\n",
       "</div>"
      ],
      "text/plain": [
       "           painter_name                                            summary  \\\n",
       "116      Albrecht Dürer  Albrecht Dürer (; German: [ˈʔalbʁɛçt ˈdyːʁɐ]; ...   \n",
       "255         Andy Warhol  Andy Warhol (; born Andrew Warhola Jr.; August...   \n",
       "1559            Hokusai  Katsushika Hokusai (葛飾 北斎, c. 31 October 1760 ...   \n",
       "1936    Joaquín Sorolla  Joaquín Sorolla y Bastida (Valencian: Joaquim ...   \n",
       "1975   Johannes Vermeer  Johannes Vermeer (, Dutch: [vərˈmeːr], see bel...   \n",
       "2375  Leonardo da Vinci  Leonardo di ser Piero da Vinci (15 April 1452 ...   \n",
       "2685       Michelangelo  Michelangelo di Lodovico Buonarroti Simoni (It...   \n",
       "2874      Pablo Picasso  Pablo Ruiz Picasso (25 October 1881 – 8 April ...   \n",
       "3062            Raphael  Raffaello Sanzio da Urbino (Italian: [raffaˈɛl...   \n",
       "3263      Salvador Dalí  Salvador Domingo Felipe Jacinto Dalí i Domènec...   \n",
       "3284  Sandro Botticelli  Alessandro di Mariano di Vanni Filipepi (c. 14...   \n",
       "3522             Titian  Tiziano Vecelli or Vecellio (pronounced [titˈt...   \n",
       "3634   Vincent van Gogh  Vincent Willem van Gogh (Dutch: [ˈvɪnsɛnt ˈʋɪl...   \n",
       "\n",
       "                                             embeddings  \\\n",
       "116   [-0.056997984647750854, 0.024535084143280983, ...   \n",
       "255   [0.0025709313340485096, -0.08942723274230957, ...   \n",
       "1559  [-0.024148855358362198, 0.04442296922206879, -...   \n",
       "1936  [0.04648873955011368, 0.08807677775621414, -0....   \n",
       "1975  [0.0292351171374321, 0.08469347655773163, -0.0...   \n",
       "2375  [-0.049784105271101, -0.0011410464067012072, 0...   \n",
       "2685  [0.01565895415842533, 0.09450660645961761, 0.0...   \n",
       "2874  [-0.013010181486606598, 0.016082225367426872, ...   \n",
       "3062  [-0.04124732315540314, -0.0005537216202355921,...   \n",
       "3263  [0.0810016617178917, -0.022114435210824013, -0...   \n",
       "3284  [-0.02803158015012741, 0.02716502733528614, 0....   \n",
       "3522  [-0.04871152341365814, 0.03751521557569504, -0...   \n",
       "3634  [0.08493974059820175, 0.03074062615633011, 0.0...   \n",
       "\n",
       "                                            embeddings2  \n",
       "116   [-0.028985479846596718, 0.30463314056396484, 0...  \n",
       "255   [0.21260204911231995, 0.24627937376499176, 0.0...  \n",
       "1559  [-0.041256651282310486, 0.08839588612318039, 0...  \n",
       "1936  [-0.0851181149482727, 0.18426494300365448, 0.4...  \n",
       "1975  [-0.021375127136707306, 0.16360527276992798, 0...  \n",
       "2375  [0.13558390736579895, 0.034301578998565674, 0....  \n",
       "2685  [0.1159994974732399, 0.23528455197811127, 0.54...  \n",
       "2874  [-0.10371260344982147, 0.4012528657913208, 0.2...  \n",
       "3062  [0.1412470042705536, 0.26519975066185, 0.48621...  \n",
       "3263  [-0.04626660421490669, 0.2813034653663635, 0.3...  \n",
       "3284  [0.07810968160629272, 0.05351052060723305, 0.5...  \n",
       "3522  [0.05105525627732277, -0.05315089598298073, 0....  \n",
       "3634  [-0.025301480665802956, 0.16944420337677002, 0...  "
      ]
     },
     "execution_count": 79,
     "metadata": {},
     "output_type": "execute_result"
    }
   ],
   "source": [
    "# YOUR CODE HERE\n",
    "# raise NotImplementedError()\n",
    "\n",
    "# Load the pre-trained model\n",
    "model = SentenceTransformer(\n",
    "    \"sentence-transformers/distilbert-multilingual-nli-stsb-quora-ranking\"\n",
    ")\n",
    "\n",
    "select_painter_bios[\"embeddings2\"] = select_painter_bios[\"summary\"].apply(\n",
    "    lambda x: model.encode(x).tolist()\n",
    ")\n",
    "\n",
    "select_painter_bios.to_csv(\"data/select_painter_embeddings2.csv\", index=False)\n",
    "\n",
    "select_painter_bios"
   ]
  },
  {
   "cell_type": "markdown",
   "id": "ae75786f",
   "metadata": {},
   "source": [
    "### Reducing dimensions\n",
    "\n",
    "Now that we have at least one set of embeddings, we can work to visualize them. This is the embedding using the first model for Vincent van Gogh:"
   ]
  },
  {
   "cell_type": "code",
   "execution_count": 80,
   "id": "9829e753",
   "metadata": {},
   "outputs": [
    {
     "data": {
      "text/plain": [
       "[0.08493974059820175,\n",
       " 0.03074062615633011,\n",
       " 0.01686738058924675,\n",
       " 0.016839053481817245,\n",
       " 0.05989311635494232,\n",
       " 0.03570970147848129,\n",
       " 0.03619306907057762,\n",
       " 0.020847732201218605,\n",
       " -0.05887269973754883,\n",
       " -0.05923779308795929,\n",
       " -0.03598632290959358,\n",
       " -0.024541286751627922,\n",
       " 0.015377012081444263,\n",
       " -0.00451229652389884,\n",
       " 0.02243201620876789,\n",
       " 0.06546244770288467,\n",
       " -0.011373251676559448,\n",
       " 0.009499303065240383,\n",
       " -0.022144265472888947,\n",
       " 0.01504893135279417,\n",
       " -0.06678536534309387,\n",
       " 0.005186570808291435,\n",
       " -0.006639833562076092,\n",
       " -0.1190100833773613,\n",
       " 0.016290709376335144,\n",
       " 0.013186655938625336,\n",
       " 0.037642695009708405,\n",
       " -0.11208225786685944,\n",
       " 0.01721331477165222,\n",
       " 0.01671992801129818,\n",
       " 0.007216630503535271,\n",
       " 0.03301443159580231,\n",
       " -0.07266112416982651,\n",
       " -0.016496745869517326,\n",
       " -0.020407019183039665,\n",
       " -0.031391970813274384,\n",
       " -0.035718824714422226,\n",
       " 0.09690754860639572,\n",
       " -0.02765747159719467,\n",
       " 0.048770707100629807,\n",
       " -0.014674311503767967,\n",
       " -0.02429278753697872,\n",
       " -0.11335866153240204,\n",
       " -0.024795353412628174,\n",
       " 0.04409858584403992,\n",
       " -0.05508239567279816,\n",
       " 0.014842620119452477,\n",
       " 0.04135361686348915,\n",
       " 0.016377277672290802,\n",
       " -0.01589330844581127,\n",
       " 0.03363381326198578,\n",
       " -0.003481448395177722,\n",
       " -0.03350313380360603,\n",
       " -0.10320676118135452,\n",
       " 0.004797321278601885,\n",
       " -0.10732708871364594,\n",
       " -0.007750681601464748,\n",
       " 0.13126032054424286,\n",
       " 0.011188765987753868,\n",
       " 0.02837526984512806,\n",
       " 0.030811520293354988,\n",
       " 0.024776555597782135,\n",
       " 0.028937309980392456,\n",
       " -0.03875371068716049,\n",
       " -0.0025029005482792854,\n",
       " 0.01874621771275997,\n",
       " 0.01818145625293255,\n",
       " -0.04807249456644058,\n",
       " -0.03691822290420532,\n",
       " 0.05241011083126068,\n",
       " -0.013904985971748829,\n",
       " -0.07888897508382797,\n",
       " -0.07307842373847961,\n",
       " 0.00490928441286087,\n",
       " 0.013913015834987164,\n",
       " 0.02031775377690792,\n",
       " -0.011750193312764168,\n",
       " -0.014394997619092464,\n",
       " -0.0965837612748146,\n",
       " -0.09974931180477142,\n",
       " 0.0860045999288559,\n",
       " 0.08594996482133865,\n",
       " -0.012396817095577717,\n",
       " -0.01433537807315588,\n",
       " 0.010395726189017296,\n",
       " 0.0050712767988443375,\n",
       " -0.024598563089966774,\n",
       " -0.003942007664591074,\n",
       " -0.028977368026971817,\n",
       " 0.02414345182478428,\n",
       " 0.023175975307822227,\n",
       " -0.0030366210266947746,\n",
       " -0.0817502811551094,\n",
       " -0.03594987466931343,\n",
       " 0.14477473497390747,\n",
       " 0.012274382635951042,\n",
       " 0.046220164746046066,\n",
       " 0.03597961366176605,\n",
       " -0.04727211594581604,\n",
       " -0.003615011228248477,\n",
       " 0.033448126167058945,\n",
       " -0.036272380501031876,\n",
       " 0.050331275910139084,\n",
       " -0.023679031059145927,\n",
       " -0.00047996718785725534,\n",
       " 0.00675157131627202,\n",
       " -0.06191680207848549,\n",
       " 0.012148766778409481,\n",
       " -0.07050013542175293,\n",
       " -0.0058126202784478664,\n",
       " -0.04416036233305931,\n",
       " 0.0003649388672783971,\n",
       " -0.028628911823034286,\n",
       " -0.08153902739286423,\n",
       " 0.07306330651044846,\n",
       " -0.0406787171959877,\n",
       " -0.1016932874917984,\n",
       " -0.07255077362060547,\n",
       " -0.04226775839924812,\n",
       " 0.01922588236629963,\n",
       " 0.03659839928150177,\n",
       " 0.026906035840511322,\n",
       " 0.004108716733753681,\n",
       " 0.05823437124490738,\n",
       " -0.029948243871331215,\n",
       " -0.04805973172187805,\n",
       " 0.03443913161754608,\n",
       " 2.58634195613339e-33,\n",
       " 0.000544468523003161,\n",
       " -0.0004331646196078509,\n",
       " 0.03611697629094124,\n",
       " 0.04961830750107765,\n",
       " 0.028260599821805954,\n",
       " 0.02924666553735733,\n",
       " -0.019905684515833855,\n",
       " 0.02938544563949108,\n",
       " 0.03720179945230484,\n",
       " -0.025669457390904427,\n",
       " 0.019920218735933304,\n",
       " -0.04718167334794998,\n",
       " 0.013631627894937992,\n",
       " 0.06684641540050507,\n",
       " -0.07169254124164581,\n",
       " 0.1031494289636612,\n",
       " 0.059708330780267715,\n",
       " -0.02674158848822117,\n",
       " 0.06821328401565552,\n",
       " -0.030064983293414116,\n",
       " -0.04694714769721031,\n",
       " -0.042964447289705276,\n",
       " -0.03655935823917389,\n",
       " 0.03953258693218231,\n",
       " -0.09939594566822052,\n",
       " 0.07119923084974289,\n",
       " 0.004199339542537928,\n",
       " -0.02358594723045826,\n",
       " -0.02150428295135498,\n",
       " -0.017282217741012573,\n",
       " -0.06515652686357498,\n",
       " 0.019186269491910934,\n",
       " 0.05849398300051689,\n",
       " -0.025485249236226082,\n",
       " -0.10952118784189224,\n",
       " -0.023149142041802406,\n",
       " -0.0011539969127625227,\n",
       " -0.05631064623594284,\n",
       " 0.010432001203298569,\n",
       " -0.062223367393016815,\n",
       " 0.021935146301984787,\n",
       " 0.07104606181383133,\n",
       " 0.03029695525765419,\n",
       " 0.042922209948301315,\n",
       " -0.009454282000660896,\n",
       " 0.07691594958305359,\n",
       " -0.01533618662506342,\n",
       " -0.014922579750418663,\n",
       " -0.0941617339849472,\n",
       " 0.05081871524453163,\n",
       " -0.03447597846388817,\n",
       " 0.046522147953510284,\n",
       " -0.017932413145899773,\n",
       " 0.047927938401699066,\n",
       " -0.008040259592235088,\n",
       " 0.0018428382463753223,\n",
       " -0.041068561375141144,\n",
       " 0.014844086952507496,\n",
       " -0.0031529900152236223,\n",
       " -0.025270242244005203,\n",
       " 0.048497870564460754,\n",
       " 0.07838232815265656,\n",
       " -0.01107826828956604,\n",
       " 0.03724713623523712,\n",
       " 0.010200629010796547,\n",
       " 0.027294903993606567,\n",
       " -0.0523308627307415,\n",
       " 0.0028435522690415382,\n",
       " -0.043818581849336624,\n",
       " -0.007500080857425928,\n",
       " -0.046327222138643265,\n",
       " 0.09171959012746811,\n",
       " 0.003460970940068364,\n",
       " -0.2248232066631317,\n",
       " 0.01262435968965292,\n",
       " 0.03189645707607269,\n",
       " 0.03445865586400032,\n",
       " -0.033898528665304184,\n",
       " -0.08737464249134064,\n",
       " 0.07297775894403458,\n",
       " -0.0818798616528511,\n",
       " 0.02347894199192524,\n",
       " -0.054144155234098434,\n",
       " -0.050880175083875656,\n",
       " 0.021945904940366745,\n",
       " 0.057914234697818756,\n",
       " 0.004048512317240238,\n",
       " -0.006758824456483126,\n",
       " -0.0131432069465518,\n",
       " 0.06707717478275299,\n",
       " 0.07200327515602112,\n",
       " -0.06365618854761124,\n",
       " 0.021329587325453758,\n",
       " -0.059850674122571945,\n",
       " -0.029962999746203423,\n",
       " -4.4384962220240884e-33,\n",
       " -0.030364491045475006,\n",
       " 0.06515520811080933,\n",
       " 0.03268122673034668,\n",
       " 0.02196185663342476,\n",
       " 0.11500678211450577,\n",
       " -0.1143077090382576,\n",
       " -0.08906448632478714,\n",
       " 0.0626910924911499,\n",
       " -0.03961717337369919,\n",
       " -0.046046026051044464,\n",
       " 0.022221658378839493,\n",
       " -0.05170663446187973,\n",
       " 0.024505022913217545,\n",
       " 0.03676353022456169,\n",
       " -0.055822741240262985,\n",
       " -0.06143363192677498,\n",
       " -0.01084820181131363,\n",
       " 0.06597308069467545,\n",
       " -0.04510684311389923,\n",
       " 0.005297904368489981,\n",
       " -0.003974746912717819,\n",
       " 0.07255958020687103,\n",
       " 0.023904908448457718,\n",
       " -0.02375730872154236,\n",
       " -0.10986064374446869,\n",
       " 0.06575347483158112,\n",
       " 0.0029274355620145798,\n",
       " -0.08595628291368484,\n",
       " -0.016792161390185356,\n",
       " 0.021992987021803856,\n",
       " 0.030832897871732712,\n",
       " 0.05508514493703842,\n",
       " 0.03745918348431587,\n",
       " 0.01967337541282177,\n",
       " 0.008684425614774227,\n",
       " 0.01293483842164278,\n",
       " -0.03010758012533188,\n",
       " -0.01532882172614336,\n",
       " 0.000562505389098078,\n",
       " 0.017764277756214142,\n",
       " 0.039270445704460144,\n",
       " -0.02352256141602993,\n",
       " 0.0066954875364899635,\n",
       " -0.030520031228661537,\n",
       " -0.006475186441093683,\n",
       " -0.06644663959741592,\n",
       " -0.0429031141102314,\n",
       " 0.01186245959252119,\n",
       " 0.07361195981502533,\n",
       " -0.012280082330107689,\n",
       " 0.025362912565469742,\n",
       " 0.089339978992939,\n",
       " -0.006290817633271217,\n",
       " 0.04149957373738289,\n",
       " 0.020032906904816628,\n",
       " -0.047525353729724884,\n",
       " 0.02598714269697666,\n",
       " -0.008299609646201134,\n",
       " 0.04273136705160141,\n",
       " 0.06337719410657883,\n",
       " -0.08906466513872147,\n",
       " 0.020261263474822044,\n",
       " -0.01824665628373623,\n",
       " 0.07094652950763702,\n",
       " -0.028672078624367714,\n",
       " -0.009110571816563606,\n",
       " -0.015974704176187515,\n",
       " 0.1023024246096611,\n",
       " -0.050507545471191406,\n",
       " -0.03876345977187157,\n",
       " 0.0699782446026802,\n",
       " 0.046999938786029816,\n",
       " 0.024457942694425583,\n",
       " 0.08425433188676834,\n",
       " -0.0465908944606781,\n",
       " -0.10231976956129074,\n",
       " 0.0694318488240242,\n",
       " 0.033968597650527954,\n",
       " 0.03438036888837814,\n",
       " -0.004571398254483938,\n",
       " -0.08189095556735992,\n",
       " -0.09428389370441437,\n",
       " -0.017700033262372017,\n",
       " 0.044419065117836,\n",
       " -0.0036898732651025057,\n",
       " 0.004279312212020159,\n",
       " -0.1422661393880844,\n",
       " -0.06278333812952042,\n",
       " 0.02679937332868576,\n",
       " -0.04637347534298897,\n",
       " 0.05903550609946251,\n",
       " -0.030321914702653885,\n",
       " -0.050730008631944656,\n",
       " 0.020506558939814568,\n",
       " 0.039007607847452164,\n",
       " -5.734931818324185e-08,\n",
       " -0.0890578180551529,\n",
       " 0.011677944101393223,\n",
       " 0.07524079084396362,\n",
       " 0.005763529799878597,\n",
       " 0.1089554876089096,\n",
       " -0.0017706560902297497,\n",
       " 0.08502892404794693,\n",
       " 0.07288999855518341,\n",
       " -0.07408671826124191,\n",
       " 0.04540039598941803,\n",
       " -0.04679817706346512,\n",
       " 0.005002067890018225,\n",
       " 0.024881714954972267,\n",
       " -0.012156677432358265,\n",
       " 0.06155375391244888,\n",
       " -0.07811985909938812,\n",
       " 0.05299937725067139,\n",
       " -0.03877667337656021,\n",
       " 0.030599316582083702,\n",
       " -0.0189319159835577,\n",
       " 0.04940098896622658,\n",
       " -0.050638504326343536,\n",
       " -0.017849786207079887,\n",
       " -0.04839426279067993,\n",
       " -0.03154226765036583,\n",
       " -0.028336286544799805,\n",
       " 0.041849516332149506,\n",
       " -0.040584903210401535,\n",
       " -0.013549566268920898,\n",
       " 0.0006554032443091273,\n",
       " -0.01952260173857212,\n",
       " 0.04199517145752907,\n",
       " 0.018419167026877403,\n",
       " 0.032633740454912186,\n",
       " 0.05341814085841179,\n",
       " -0.11720344424247742,\n",
       " -0.03644698113203049,\n",
       " 0.04117530956864357,\n",
       " -0.15653742849826813,\n",
       " 0.0075582098215818405,\n",
       " -0.03742336109280586,\n",
       " 0.00985662080347538,\n",
       " 0.047100652009248734,\n",
       " -0.005931431893259287,\n",
       " 0.040710095316171646,\n",
       " -0.05263591930270195,\n",
       " 0.0739845484495163,\n",
       " 0.005073517560958862,\n",
       " 0.024958159774541855,\n",
       " 0.009790636599063873,\n",
       " -0.021697361022233963,\n",
       " 0.050962597131729126,\n",
       " 0.11842416226863861,\n",
       " 0.0272603128105402,\n",
       " 0.014384596608579159,\n",
       " -0.06476431339979172,\n",
       " -0.02114596776664257,\n",
       " 0.11673581600189209,\n",
       " 0.028411103412508965,\n",
       " 0.03038087859749794,\n",
       " 0.012961259111762047,\n",
       " 0.041607242077589035,\n",
       " -0.034639034420251846,\n",
       " 0.01441735215485096]"
      ]
     },
     "execution_count": 80,
     "metadata": {},
     "output_type": "execute_result"
    }
   ],
   "source": [
    "van_gogh = select_painter_bios[select_painter_bios[\"painter_name\"] == \"Vincent van Gogh\"][\"embeddings\"].values[0]\n",
    "\n",
    "van_gogh"
   ]
  },
  {
   "cell_type": "markdown",
   "id": "982b154e",
   "metadata": {},
   "source": [
    "<div class=\"alert alert-info\">\n",
    "<b>Instruction:</b> How long is this vector?\n",
    "</div>"
   ]
  },
  {
   "cell_type": "code",
   "execution_count": 81,
   "id": "462f62c6",
   "metadata": {},
   "outputs": [
    {
     "data": {
      "text/plain": [
       "384"
      ]
     },
     "execution_count": 81,
     "metadata": {},
     "output_type": "execute_result"
    }
   ],
   "source": [
    "# YOUR CODE HERE\n",
    "# raise NotImplementedError()\n",
    "len(van_gogh)"
   ]
  },
  {
   "cell_type": "markdown",
   "id": "13406294",
   "metadata": {},
   "source": [
    "This embedding has 384 components. It will be very difficult to visualize all 384 dimensions of this vector directly in a way that is interpretable. We are better off if we can somehow get these 384 dimensions into 2 or 3 dimensions (using 1 dimension might be too simplistic). This process of taking a large number of dimensions and reducing them to less dimensions is also known as projection. \n",
    "\n",
    "The technique that we will use is called [UMAP](https://umap-learn.readthedocs.io/en/latest/), or Uniform Manifold Approximation and Projection for Dimension Reduction. There are others, like SNE and t-SNE that are worth looking into."
   ]
  },
  {
   "cell_type": "code",
   "execution_count": 106,
   "id": "ecdf5af6",
   "metadata": {},
   "outputs": [
    {
     "data": {
      "text/plain": [
       "array([[-0.18798459,  6.4335604 ],\n",
       "       [ 3.5670145 ,  4.1177673 ],\n",
       "       [ 1.606992  ,  6.2584844 ],\n",
       "       [ 1.969826  ,  3.0119884 ],\n",
       "       [ 4.351476  ,  4.0956063 ],\n",
       "       [ 0.7943661 ,  6.1044984 ],\n",
       "       [ 1.8906181 ,  5.45726   ],\n",
       "       [ 2.7382073 ,  3.7811651 ],\n",
       "       [ 0.01221535,  5.3592668 ],\n",
       "       [ 3.037905  ,  2.837429  ],\n",
       "       [ 0.9158178 ,  4.9423156 ],\n",
       "       [-0.7844418 ,  5.5186667 ],\n",
       "       [ 4.0737176 ,  3.232379  ]], dtype=float32)"
      ]
     },
     "execution_count": 106,
     "metadata": {},
     "output_type": "execute_result"
    }
   ],
   "source": [
    "import umap\n",
    "\n",
    "umap_model = umap.UMAP(n_components=2, n_neighbors=5, min_dist=0.3, metric=\"cosine\")\n",
    "embeddings = select_painter_bios[\"embeddings\"].tolist()\n",
    "embedded_data_2d = umap_model.fit_transform(embeddings)\n",
    "embedded_data_2d"
   ]
  },
  {
   "cell_type": "markdown",
   "id": "09b04ac3",
   "metadata": {},
   "source": [
    "What we have done is use the UMAP technique to project all 384 dimensions of the original embedding into 2 dimensions that we can now visualize.\n",
    "\n",
    "Each of the parameters in `umap.UMAP()` can affect our output:\n",
    "* `n_components`: This parameter controls the dimensionality of the reduction. We set it to 2 because we want to end up with 2 components in the end (that we can visualize).\n",
    "* `n_neighbors`: This parameter tweaks how UMAP balances local vs global patterns. Play around with this if your visualization later looks off.\n",
    "* `min_dist`: This parameter controls how packed points can be. \n",
    "\n",
    "You can read more about these parameters, and see some visuals of how they affect the output at the UMAP website [here](https://umap-learn.readthedocs.io/en/latest/parameters.html).\n",
    "\n",
    "Let's add those dimensions to our dataframe. We'll name these new columns `umap1_x` and `umap1_y` because we're using the first set of embeddings that were created using the `all-MiniLM-L6-v2` model."
   ]
  },
  {
   "cell_type": "code",
   "execution_count": 107,
   "id": "988f4905",
   "metadata": {},
   "outputs": [],
   "source": [
    "select_painter_bios[\"umap1_x\"] = embedded_data_2d[:, 0]\n",
    "select_painter_bios[\"umap1_y\"] = embedded_data_2d[:, 1]"
   ]
  },
  {
   "cell_type": "markdown",
   "id": "3ec82569",
   "metadata": {},
   "source": [
    "### Scatterplot visualization\n",
    "\n",
    "Now that we have reduced the 384-component long embeddings to 2 dimensions. Let's visualize them using a scatterplot."
   ]
  },
  {
   "cell_type": "code",
   "execution_count": 110,
   "id": "d5bf0815",
   "metadata": {},
   "outputs": [
    {
     "data": {
      "application/vnd.plotly.v1+json": {
       "config": {
        "plotlyServerURL": "https://plot.ly"
       },
       "data": [
        {
         "customdata": [
          [
           "Albrecht Dürer"
          ],
          [
           "Andy Warhol"
          ],
          [
           "Hokusai"
          ],
          [
           "Joaquín Sorolla"
          ],
          [
           "Johannes Vermeer"
          ],
          [
           "Leonardo da Vinci"
          ],
          [
           "Michelangelo"
          ],
          [
           "Pablo Picasso"
          ],
          [
           "Raphael"
          ],
          [
           "Salvador Dalí"
          ],
          [
           "Sandro Botticelli"
          ],
          [
           "Titian"
          ],
          [
           "Vincent van Gogh"
          ]
         ],
         "hovertemplate": "umap1_x=%{x}<br>umap1_y=%{y}<br>painter_name=%{customdata[0]}<extra></extra>",
         "legendgroup": "",
         "marker": {
          "color": "#636efa",
          "symbol": "circle"
         },
         "mode": "markers",
         "name": "",
         "orientation": "v",
         "showlegend": false,
         "type": "scatter",
         "x": [
          -0.18798458576202393,
          3.567014455795288,
          1.6069920063018799,
          1.9698259830474854,
          4.351476192474365,
          0.7943661212921143,
          1.890618085861206,
          2.7382073402404785,
          0.012215347960591316,
          3.037904977798462,
          0.9158177971839905,
          -0.7844418287277222,
          4.0737175941467285
         ],
         "xaxis": "x",
         "y": [
          6.433560371398926,
          4.117767333984375,
          6.258484363555908,
          3.011988401412964,
          4.095606327056885,
          6.104498386383057,
          5.4572601318359375,
          3.78116512298584,
          5.359266757965088,
          2.8374290466308594,
          4.942315578460693,
          5.518666744232178,
          3.2323789596557617
         ],
         "yaxis": "y"
        }
       ],
       "layout": {
        "height": 800,
        "legend": {
         "tracegroupgap": 0
        },
        "margin": {
         "t": 60
        },
        "template": {
         "data": {
          "bar": [
           {
            "error_x": {
             "color": "#2a3f5f"
            },
            "error_y": {
             "color": "#2a3f5f"
            },
            "marker": {
             "line": {
              "color": "#E5ECF6",
              "width": 0.5
             },
             "pattern": {
              "fillmode": "overlay",
              "size": 10,
              "solidity": 0.2
             }
            },
            "type": "bar"
           }
          ],
          "barpolar": [
           {
            "marker": {
             "line": {
              "color": "#E5ECF6",
              "width": 0.5
             },
             "pattern": {
              "fillmode": "overlay",
              "size": 10,
              "solidity": 0.2
             }
            },
            "type": "barpolar"
           }
          ],
          "carpet": [
           {
            "aaxis": {
             "endlinecolor": "#2a3f5f",
             "gridcolor": "white",
             "linecolor": "white",
             "minorgridcolor": "white",
             "startlinecolor": "#2a3f5f"
            },
            "baxis": {
             "endlinecolor": "#2a3f5f",
             "gridcolor": "white",
             "linecolor": "white",
             "minorgridcolor": "white",
             "startlinecolor": "#2a3f5f"
            },
            "type": "carpet"
           }
          ],
          "choropleth": [
           {
            "colorbar": {
             "outlinewidth": 0,
             "ticks": ""
            },
            "type": "choropleth"
           }
          ],
          "contour": [
           {
            "colorbar": {
             "outlinewidth": 0,
             "ticks": ""
            },
            "colorscale": [
             [
              0,
              "#0d0887"
             ],
             [
              0.1111111111111111,
              "#46039f"
             ],
             [
              0.2222222222222222,
              "#7201a8"
             ],
             [
              0.3333333333333333,
              "#9c179e"
             ],
             [
              0.4444444444444444,
              "#bd3786"
             ],
             [
              0.5555555555555556,
              "#d8576b"
             ],
             [
              0.6666666666666666,
              "#ed7953"
             ],
             [
              0.7777777777777778,
              "#fb9f3a"
             ],
             [
              0.8888888888888888,
              "#fdca26"
             ],
             [
              1,
              "#f0f921"
             ]
            ],
            "type": "contour"
           }
          ],
          "contourcarpet": [
           {
            "colorbar": {
             "outlinewidth": 0,
             "ticks": ""
            },
            "type": "contourcarpet"
           }
          ],
          "heatmap": [
           {
            "colorbar": {
             "outlinewidth": 0,
             "ticks": ""
            },
            "colorscale": [
             [
              0,
              "#0d0887"
             ],
             [
              0.1111111111111111,
              "#46039f"
             ],
             [
              0.2222222222222222,
              "#7201a8"
             ],
             [
              0.3333333333333333,
              "#9c179e"
             ],
             [
              0.4444444444444444,
              "#bd3786"
             ],
             [
              0.5555555555555556,
              "#d8576b"
             ],
             [
              0.6666666666666666,
              "#ed7953"
             ],
             [
              0.7777777777777778,
              "#fb9f3a"
             ],
             [
              0.8888888888888888,
              "#fdca26"
             ],
             [
              1,
              "#f0f921"
             ]
            ],
            "type": "heatmap"
           }
          ],
          "heatmapgl": [
           {
            "colorbar": {
             "outlinewidth": 0,
             "ticks": ""
            },
            "colorscale": [
             [
              0,
              "#0d0887"
             ],
             [
              0.1111111111111111,
              "#46039f"
             ],
             [
              0.2222222222222222,
              "#7201a8"
             ],
             [
              0.3333333333333333,
              "#9c179e"
             ],
             [
              0.4444444444444444,
              "#bd3786"
             ],
             [
              0.5555555555555556,
              "#d8576b"
             ],
             [
              0.6666666666666666,
              "#ed7953"
             ],
             [
              0.7777777777777778,
              "#fb9f3a"
             ],
             [
              0.8888888888888888,
              "#fdca26"
             ],
             [
              1,
              "#f0f921"
             ]
            ],
            "type": "heatmapgl"
           }
          ],
          "histogram": [
           {
            "marker": {
             "pattern": {
              "fillmode": "overlay",
              "size": 10,
              "solidity": 0.2
             }
            },
            "type": "histogram"
           }
          ],
          "histogram2d": [
           {
            "colorbar": {
             "outlinewidth": 0,
             "ticks": ""
            },
            "colorscale": [
             [
              0,
              "#0d0887"
             ],
             [
              0.1111111111111111,
              "#46039f"
             ],
             [
              0.2222222222222222,
              "#7201a8"
             ],
             [
              0.3333333333333333,
              "#9c179e"
             ],
             [
              0.4444444444444444,
              "#bd3786"
             ],
             [
              0.5555555555555556,
              "#d8576b"
             ],
             [
              0.6666666666666666,
              "#ed7953"
             ],
             [
              0.7777777777777778,
              "#fb9f3a"
             ],
             [
              0.8888888888888888,
              "#fdca26"
             ],
             [
              1,
              "#f0f921"
             ]
            ],
            "type": "histogram2d"
           }
          ],
          "histogram2dcontour": [
           {
            "colorbar": {
             "outlinewidth": 0,
             "ticks": ""
            },
            "colorscale": [
             [
              0,
              "#0d0887"
             ],
             [
              0.1111111111111111,
              "#46039f"
             ],
             [
              0.2222222222222222,
              "#7201a8"
             ],
             [
              0.3333333333333333,
              "#9c179e"
             ],
             [
              0.4444444444444444,
              "#bd3786"
             ],
             [
              0.5555555555555556,
              "#d8576b"
             ],
             [
              0.6666666666666666,
              "#ed7953"
             ],
             [
              0.7777777777777778,
              "#fb9f3a"
             ],
             [
              0.8888888888888888,
              "#fdca26"
             ],
             [
              1,
              "#f0f921"
             ]
            ],
            "type": "histogram2dcontour"
           }
          ],
          "mesh3d": [
           {
            "colorbar": {
             "outlinewidth": 0,
             "ticks": ""
            },
            "type": "mesh3d"
           }
          ],
          "parcoords": [
           {
            "line": {
             "colorbar": {
              "outlinewidth": 0,
              "ticks": ""
             }
            },
            "type": "parcoords"
           }
          ],
          "pie": [
           {
            "automargin": true,
            "type": "pie"
           }
          ],
          "scatter": [
           {
            "fillpattern": {
             "fillmode": "overlay",
             "size": 10,
             "solidity": 0.2
            },
            "type": "scatter"
           }
          ],
          "scatter3d": [
           {
            "line": {
             "colorbar": {
              "outlinewidth": 0,
              "ticks": ""
             }
            },
            "marker": {
             "colorbar": {
              "outlinewidth": 0,
              "ticks": ""
             }
            },
            "type": "scatter3d"
           }
          ],
          "scattercarpet": [
           {
            "marker": {
             "colorbar": {
              "outlinewidth": 0,
              "ticks": ""
             }
            },
            "type": "scattercarpet"
           }
          ],
          "scattergeo": [
           {
            "marker": {
             "colorbar": {
              "outlinewidth": 0,
              "ticks": ""
             }
            },
            "type": "scattergeo"
           }
          ],
          "scattergl": [
           {
            "marker": {
             "colorbar": {
              "outlinewidth": 0,
              "ticks": ""
             }
            },
            "type": "scattergl"
           }
          ],
          "scattermapbox": [
           {
            "marker": {
             "colorbar": {
              "outlinewidth": 0,
              "ticks": ""
             }
            },
            "type": "scattermapbox"
           }
          ],
          "scatterpolar": [
           {
            "marker": {
             "colorbar": {
              "outlinewidth": 0,
              "ticks": ""
             }
            },
            "type": "scatterpolar"
           }
          ],
          "scatterpolargl": [
           {
            "marker": {
             "colorbar": {
              "outlinewidth": 0,
              "ticks": ""
             }
            },
            "type": "scatterpolargl"
           }
          ],
          "scatterternary": [
           {
            "marker": {
             "colorbar": {
              "outlinewidth": 0,
              "ticks": ""
             }
            },
            "type": "scatterternary"
           }
          ],
          "surface": [
           {
            "colorbar": {
             "outlinewidth": 0,
             "ticks": ""
            },
            "colorscale": [
             [
              0,
              "#0d0887"
             ],
             [
              0.1111111111111111,
              "#46039f"
             ],
             [
              0.2222222222222222,
              "#7201a8"
             ],
             [
              0.3333333333333333,
              "#9c179e"
             ],
             [
              0.4444444444444444,
              "#bd3786"
             ],
             [
              0.5555555555555556,
              "#d8576b"
             ],
             [
              0.6666666666666666,
              "#ed7953"
             ],
             [
              0.7777777777777778,
              "#fb9f3a"
             ],
             [
              0.8888888888888888,
              "#fdca26"
             ],
             [
              1,
              "#f0f921"
             ]
            ],
            "type": "surface"
           }
          ],
          "table": [
           {
            "cells": {
             "fill": {
              "color": "#EBF0F8"
             },
             "line": {
              "color": "white"
             }
            },
            "header": {
             "fill": {
              "color": "#C8D4E3"
             },
             "line": {
              "color": "white"
             }
            },
            "type": "table"
           }
          ]
         },
         "layout": {
          "annotationdefaults": {
           "arrowcolor": "#2a3f5f",
           "arrowhead": 0,
           "arrowwidth": 1
          },
          "autotypenumbers": "strict",
          "coloraxis": {
           "colorbar": {
            "outlinewidth": 0,
            "ticks": ""
           }
          },
          "colorscale": {
           "diverging": [
            [
             0,
             "#8e0152"
            ],
            [
             0.1,
             "#c51b7d"
            ],
            [
             0.2,
             "#de77ae"
            ],
            [
             0.3,
             "#f1b6da"
            ],
            [
             0.4,
             "#fde0ef"
            ],
            [
             0.5,
             "#f7f7f7"
            ],
            [
             0.6,
             "#e6f5d0"
            ],
            [
             0.7,
             "#b8e186"
            ],
            [
             0.8,
             "#7fbc41"
            ],
            [
             0.9,
             "#4d9221"
            ],
            [
             1,
             "#276419"
            ]
           ],
           "sequential": [
            [
             0,
             "#0d0887"
            ],
            [
             0.1111111111111111,
             "#46039f"
            ],
            [
             0.2222222222222222,
             "#7201a8"
            ],
            [
             0.3333333333333333,
             "#9c179e"
            ],
            [
             0.4444444444444444,
             "#bd3786"
            ],
            [
             0.5555555555555556,
             "#d8576b"
            ],
            [
             0.6666666666666666,
             "#ed7953"
            ],
            [
             0.7777777777777778,
             "#fb9f3a"
            ],
            [
             0.8888888888888888,
             "#fdca26"
            ],
            [
             1,
             "#f0f921"
            ]
           ],
           "sequentialminus": [
            [
             0,
             "#0d0887"
            ],
            [
             0.1111111111111111,
             "#46039f"
            ],
            [
             0.2222222222222222,
             "#7201a8"
            ],
            [
             0.3333333333333333,
             "#9c179e"
            ],
            [
             0.4444444444444444,
             "#bd3786"
            ],
            [
             0.5555555555555556,
             "#d8576b"
            ],
            [
             0.6666666666666666,
             "#ed7953"
            ],
            [
             0.7777777777777778,
             "#fb9f3a"
            ],
            [
             0.8888888888888888,
             "#fdca26"
            ],
            [
             1,
             "#f0f921"
            ]
           ]
          },
          "colorway": [
           "#636efa",
           "#EF553B",
           "#00cc96",
           "#ab63fa",
           "#FFA15A",
           "#19d3f3",
           "#FF6692",
           "#B6E880",
           "#FF97FF",
           "#FECB52"
          ],
          "font": {
           "color": "#2a3f5f"
          },
          "geo": {
           "bgcolor": "white",
           "lakecolor": "white",
           "landcolor": "#E5ECF6",
           "showlakes": true,
           "showland": true,
           "subunitcolor": "white"
          },
          "hoverlabel": {
           "align": "left"
          },
          "hovermode": "closest",
          "mapbox": {
           "style": "light"
          },
          "paper_bgcolor": "white",
          "plot_bgcolor": "#E5ECF6",
          "polar": {
           "angularaxis": {
            "gridcolor": "white",
            "linecolor": "white",
            "ticks": ""
           },
           "bgcolor": "#E5ECF6",
           "radialaxis": {
            "gridcolor": "white",
            "linecolor": "white",
            "ticks": ""
           }
          },
          "scene": {
           "xaxis": {
            "backgroundcolor": "#E5ECF6",
            "gridcolor": "white",
            "gridwidth": 2,
            "linecolor": "white",
            "showbackground": true,
            "ticks": "",
            "zerolinecolor": "white"
           },
           "yaxis": {
            "backgroundcolor": "#E5ECF6",
            "gridcolor": "white",
            "gridwidth": 2,
            "linecolor": "white",
            "showbackground": true,
            "ticks": "",
            "zerolinecolor": "white"
           },
           "zaxis": {
            "backgroundcolor": "#E5ECF6",
            "gridcolor": "white",
            "gridwidth": 2,
            "linecolor": "white",
            "showbackground": true,
            "ticks": "",
            "zerolinecolor": "white"
           }
          },
          "shapedefaults": {
           "line": {
            "color": "#2a3f5f"
           }
          },
          "ternary": {
           "aaxis": {
            "gridcolor": "white",
            "linecolor": "white",
            "ticks": ""
           },
           "baxis": {
            "gridcolor": "white",
            "linecolor": "white",
            "ticks": ""
           },
           "bgcolor": "#E5ECF6",
           "caxis": {
            "gridcolor": "white",
            "linecolor": "white",
            "ticks": ""
           }
          },
          "title": {
           "x": 0.05
          },
          "xaxis": {
           "automargin": true,
           "gridcolor": "white",
           "linecolor": "white",
           "ticks": "",
           "title": {
            "standoff": 15
           },
           "zerolinecolor": "white",
           "zerolinewidth": 2
          },
          "yaxis": {
           "automargin": true,
           "gridcolor": "white",
           "linecolor": "white",
           "ticks": "",
           "title": {
            "standoff": 15
           },
           "zerolinecolor": "white",
           "zerolinewidth": 2
          }
         }
        },
        "width": 800,
        "xaxis": {
         "anchor": "y",
         "domain": [
          0,
          1
         ],
         "title": {
          "text": "umap1_x"
         }
        },
        "yaxis": {
         "anchor": "x",
         "domain": [
          0,
          1
         ],
         "title": {
          "text": "umap1_y"
         }
        }
       }
      }
     },
     "metadata": {},
     "output_type": "display_data"
    }
   ],
   "source": [
    "import plotly.express as px\n",
    "\n",
    "# Create a scatter plot with Plotly\n",
    "fig = px.scatter(select_painter_bios, x=\"umap1_x\", y=\"umap1_y\", hover_data=[\"painter_name\"], width=800, height=800)\n",
    "\n",
    "# Show the plot\n",
    "fig.show()\n"
   ]
  },
  {
   "cell_type": "markdown",
   "id": "d4414cea",
   "metadata": {},
   "source": [
    "<div class=\"alert alert-info\">\n",
    "<b>Instruction:</b> How do you interpret your figure?\n",
    "</div>"
   ]
  },
  {
   "cell_type": "markdown",
   "id": "99851bbc",
   "metadata": {},
   "source": [
    "@@ YOUR ANSWER HERE@@"
   ]
  },
  {
   "cell_type": "markdown",
   "id": "4b8d3abe",
   "metadata": {},
   "source": [
    "---\n",
    "\n",
    "## 4.5 - Visualizing the embeddings for the model you chose\n",
    "\n",
    "Now that you have visualized the first embedding using the `all-MiniLM-L6-v2` model, do it for the model you chose. Feel free to reuse code that is above, but be sure to write comments and notes explaining your process."
   ]
  },
  {
   "cell_type": "code",
   "execution_count": null,
   "id": "937f0d62",
   "metadata": {},
   "outputs": [],
   "source": [
    "# YOUR CODE HERE\n",
    "# raise NotImplementedError()"
   ]
  },
  {
   "cell_type": "markdown",
   "id": "55efa57f",
   "metadata": {},
   "source": [
    "<div class=\"alert alert-info\">\n",
    "<b>Instruction:</b> Use the space below to interpret the final visualization of your embedding. How does it compare with the previous visual?\n",
    "</div>"
   ]
  },
  {
   "cell_type": "markdown",
   "id": "7191c759",
   "metadata": {},
   "source": [
    "**@@YOUR ANSWER HERE@@**"
   ]
  },
  {
   "cell_type": "markdown",
   "id": "12b016b9",
   "metadata": {},
   "source": [
    "---\n",
    "\n",
    "## 4.6 - Visualizing the entire dataset\n",
    "\n",
    "Taking all the tools from above, visualize the entire dataset of artists. The code may take longer to run, but the process is still the same.\n",
    "\n",
    "1. Compute embeddings using one of the models from [this page](https://huggingface.co/models?library=sentence-transformers&author=sentence-transformers)\n",
    "1. Reduce dimensions using UMAP\n",
    "1. Plot the result.\n",
    "\n"
   ]
  },
  {
   "cell_type": "code",
   "execution_count": 111,
   "id": "abfc5ab3",
   "metadata": {},
   "outputs": [],
   "source": [
    "# YOUR CODE HERE\n",
    "# raise NotImplementedError()"
   ]
  }
 ],
 "metadata": {
  "kernelspec": {
   "display_name": "base",
   "language": "python",
   "name": "python3"
  },
  "language_info": {
   "codemirror_mode": {
    "name": "ipython",
    "version": 3
   },
   "file_extension": ".py",
   "mimetype": "text/x-python",
   "name": "python",
   "nbconvert_exporter": "python",
   "pygments_lexer": "ipython3",
   "version": "3.12.2"
  }
 },
 "nbformat": 4,
 "nbformat_minor": 5
}
