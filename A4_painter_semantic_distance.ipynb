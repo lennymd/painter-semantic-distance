{
 "cells": [
  {
   "cell_type": "markdown",
   "id": "9d904535-f897-46f2-b31f-1a47f944d302",
   "metadata": {},
   "source": [
    "Before you turn this problem in, make sure everything runs as expected. First, **restart the kernel** (in the menubar, select Kernel $\\rightarrow$ Restart) and then **run all cells** (in the menubar, select Cell $\\rightarrow$ Run All).\n",
    "\n",
    "Make sure you fill in any place that says `YOUR CODE HERE` or \"YOUR ANSWER HERE\", as well as your name and email below:"
   ]
  },
  {
   "cell_type": "code",
   "execution_count": null,
   "id": "54c0505c",
   "metadata": {},
   "outputs": [],
   "source": [
    "# Full name\n",
    "NAME = \"\"\n",
    "# Institutional email (hm.edu or hmtm.de)\n",
    "EMAIL = \"\""
   ]
  },
  {
   "cell_type": "markdown",
   "id": "ccc9d4c6",
   "metadata": {},
   "source": [
    "---"
   ]
  },
  {
   "cell_type": "markdown",
   "id": "5bf0c09a",
   "metadata": {},
   "source": [
    "# Day 4 - Visualizing painter biographies\n",
    "\n",
    "## 4.0 - Getting Started\n",
    "\n",
    "### Introduction\n",
    "\n",
    "The fourth day of this class will show you:\n",
    "\n",
    "- [HuggingFace](https://huggingface.co/), a platform for finding and working with different machine learning models.\n",
    "- How to visualize how similarity between painters\n",
    "\n",
    "Please download the code and data from the [github repository](https://github.com/aica-wavelab/aica-assignments) and follow the instructions in the `A4_painter_semantic_distance`.\n",
    "\n",
    "[Github repository of the course](https://github.com/aica-wavelab/aica-assignments)\n",
    "\n",
    "### Content of the repository\n",
    "\n",
    "- `data`: A folder containing the summary information for artists gathered from Wikipedia.\n",
    "- `A4_painter_semantic_distance.ipynb`: This notebook where we will do the analysis and visualization work.\n",
    "\n",
    "### Assignment\n",
    "\n",
    "Today's task is to find a way to cluster and visualize painters based on the summaries of their Wikipedia pages.\n",
    "\n",
    "@@REVIEW@@\n",
    "\n",
    "### Installation required\n",
    "\n",
    "Make sure you have the following packages installed for today."
   ]
  },
  {
   "cell_type": "code",
   "execution_count": null,
   "id": "b874c467",
   "metadata": {},
   "outputs": [],
   "source": [
    "# Run this cell if to install the required packages\n",
    "!pip install pandas\n",
    "!pip install numpy\n",
    "!pip install matplotlib \n",
    "!pip install seaborn\n",
    "!pip install sentence-transformers"
   ]
  },
  {
   "cell_type": "markdown",
   "id": "b8fda041",
   "metadata": {},
   "source": [
    "---"
   ]
  },
  {
   "cell_type": "markdown",
   "id": "29f0421c",
   "metadata": {},
   "source": [
    "## 4.1 - The dataset\n",
    "\n",
    "The dataset is something I put together using the `wikipedia-api` package (linked [here](https://pypi.org/project/Wikipedia-API/)). It's a collection of the summaries from painter pages on Wikipedia. The painter pages come Wikipedia's [List of painters by name](https://en.wikipedia.org/wiki/List_of_painters_by_name). While it has a lot of painters, it's important to note that it does not cover _all_ the painters who have pages on Wikipedia.\n",
    "\n",
    "The dataset is divided into two sections:\n",
    "\n",
    "- The main file is `painter_summaries_all.csv`; it has data on all 3900+ painters listed in the Wikipedia article. One listed painter has been removed from this dataset that appears in the partial files and the IDs not been changed.\n",
    "- There are also 6 files in the `partial` directory with the format `painter_summaries_part##.csv`. These files have the data split into smaller chunks based on how the data was gathered.\n",
    "\n",
    "### Inspecting the data\n",
    "\n",
    "Open `painter_summaries_all.csv` file in a spreadsheet program (Excel, Numbers, Sheets, etc) and take a look at the data.\n",
    "\n",
    "<div class=\"alert alert-info\">\n",
    "<b>Instruction:</b> What are the columns in this dataset? What do they each contain?\n",
    "</div>"
   ]
  },
  {
   "cell_type": "markdown",
   "id": "49925b5a",
   "metadata": {},
   "source": [
    "**@@ YOUR ANSWER HERE @@**"
   ]
  },
  {
   "cell_type": "markdown",
   "id": "e05dad26",
   "metadata": {},
   "source": [
    "### Loading the data\n",
    "\n",
    "Let's load the complete dataset and inspect it using pandas."
   ]
  },
  {
   "cell_type": "code",
   "execution_count": null,
   "id": "d2b4fd37",
   "metadata": {},
   "outputs": [],
   "source": [
    "import pandas as pd\n",
    "\n",
    "painter_summaries_df = pd.read_csv(\"data/painter_summaries_all.csv\")\n",
    "\n",
    "painter_summaries_df.head(5)"
   ]
  },
  {
   "cell_type": "markdown",
   "id": "1a7f6584",
   "metadata": {},
   "source": [
    "<div class=\"alert alert-info\">\n",
    "<b>Instruction:</b> How many painters are there in the dataset? Are there any duplicates?\n",
    "</div>"
   ]
  },
  {
   "cell_type": "code",
   "execution_count": null,
   "id": "b3f5f273",
   "metadata": {},
   "outputs": [],
   "source": [
    "# YOUR CODE HERE\n",
    "painter_summaries_df[\"painter_name\"].value_counts()"
   ]
  },
  {
   "cell_type": "markdown",
   "id": "fb8e86eb",
   "metadata": {},
   "source": [
    "### Cleaning the dataset \n",
    "<div class=\"alert alert-info\">\n",
    "<b>Instruction:</b> Create a new dataframe <strong>painter_summaries_clean</strong> that does not have duplicates based on the <em>painter_name</em> column.\n",
    "</div>"
   ]
  },
  {
   "cell_type": "code",
   "execution_count": null,
   "id": "c07fb563",
   "metadata": {},
   "outputs": [],
   "source": [
    "# YOUR CODE HERE\n",
    "# raise NotImplementedError()\n",
    "painter_summaries_clean = painter_summaries_df.drop_duplicates(subset=\"painter_name\", keep=\"first\")\n",
    "painter_summaries_clean[\"painter_name\"].value_counts()"
   ]
  },
  {
   "cell_type": "markdown",
   "id": "192eb563",
   "metadata": {},
   "source": [
    "Now that the dataset is duplicate free we can start working it for our analysis.\n",
    "\n",
    "If you look at the data file in a spreadsheet program, you will notice that the summaries are of various lengths. Let's keep track of that somehow because we may want to filter later on."
   ]
  },
  {
   "cell_type": "code",
   "execution_count": null,
   "id": "085bdc1d",
   "metadata": {},
   "outputs": [],
   "source": [
    "def count_words(text):\n",
    "    return len(text.split())"
   ]
  },
  {
   "cell_type": "markdown",
   "id": "d3adb6cb",
   "metadata": {},
   "source": [
    "<div class=\"alert alert-info\">\n",
    "<b>Instruction:</b> Create a new column <em>summary_length</em> using the count_words() function.\n",
    "</div>\n"
   ]
  },
  {
   "cell_type": "code",
   "execution_count": null,
   "id": "3da28932",
   "metadata": {},
   "outputs": [],
   "source": [
    "painter_summaries_clean[\"summary_length\"] = painter_summaries_clean[\"summary\"].apply(count_words)\n",
    "\n",
    "painter_summaries_clean.head(10)"
   ]
  },
  {
   "cell_type": "markdown",
   "id": "b6c948b4",
   "metadata": {},
   "source": [
    "We'll save the data as it is now and then we can work with these summaries."
   ]
  },
  {
   "cell_type": "code",
   "execution_count": null,
   "id": "648011d5",
   "metadata": {},
   "outputs": [],
   "source": [
    "painter_summaries_clean.to_csv(\"data/painter_summaries_clean.csv\", index=False)"
   ]
  },
  {
   "cell_type": "markdown",
   "id": "866ca461",
   "metadata": {},
   "source": [
    "\n",
    "---\n",
    "\n",
    "## 4.2 - Sentence Similarity\n",
    "\n",
    "Let's take a step back and think about where we want to end up and where we are currently. Right now we have a dataset of biographies of different painters (with some differences in length). We want to end up with a visual of the painters clustered based on their biographies.\n",
    "\n",
    "We could manually take each biography and interpret the text and try to group the painters ourselves. In some cases we might group painters by their nationality (e.g., Dutch painters), their style (e.g. Surrealist painters), their subject matter (e.g, still life painters), or the time period they lived in (e.g. Renaissance painters). \n",
    "\n",
    "<div class=\"alert alert-info\">\n",
    "<b>Instruction:</b> How many painter biographies would you go through before getting bored?\n",
    "</div>"
   ]
  },
  {
   "cell_type": "markdown",
   "id": "54945fde",
   "metadata": {},
   "source": [
    "**@@YOUR ANSWER HERE@@**"
   ]
  },
  {
   "cell_type": "markdown",
   "id": "cb027d67",
   "metadata": {},
   "source": [
    "We can use machine learning to assist us in clustering these biographies by comparing how similar or different the summaries are. This task is also known as Sentence Similarity and you can read more about it here: [https://huggingface.co/tasks/sentence-similarity](https://huggingface.co/tasks/sentence-similarity). \n",
    "\n",
    "For now we'll play a bit with the widget on the page. First let's get a series of painter summaries to work with. I picked names that might have some obvious groupings so we can do sanity checks as we work."
   ]
  },
  {
   "cell_type": "code",
   "execution_count": null,
   "id": "ce7db487",
   "metadata": {},
   "outputs": [],
   "source": [
    "select_painter_names = [\n",
    "    \"Albrecht Dürer\",\n",
    "    \"Leonardo da Vinci\",\n",
    "    \"Michelangelo\",\n",
    "    \"Raphael\",\n",
    "    \"Titian\",\n",
    "    \"Joaquín Sorolla\",\n",
    "    \"Pablo Picasso\",\n",
    "    \"Salvador Dalí\",\n",
    "    \"Andy Warhol\",\n",
    "    \"Vincent van Gogh\",\n",
    "    \"Johannes Vermeer\",\n",
    "    \"Sandro Botticelli\",\n",
    "    \"Hokusai\"\n",
    "]\n",
    "\n",
    "select_painter_bios = painter_summaries_clean[\n",
    "    painter_summaries_clean[\"painter_name\"].isin(select_painter_names)\n",
    "]\n",
    "\n",
    "# For this short dataset, we don't care about the other columns.\n",
    "select_painter_bios = select_painter_bios[[\"painter_name\", \"summary\"]]\n",
    "select_painter_bios"
   ]
  },
  {
   "cell_type": "markdown",
   "id": "8bd9b160",
   "metadata": {},
   "source": [
    "<div class=\"alert alert-info\">\n",
    "<b>Instruction:</b> Cluster the 13 painters based on what you may know, can quickly read about them.\n",
    "</div>"
   ]
  },
  {
   "cell_type": "markdown",
   "id": "05956262",
   "metadata": {},
   "source": [
    "**@@YOUR ANSWER HERE@@**"
   ]
  },
  {
   "cell_type": "markdown",
   "id": "b6460ee1",
   "metadata": {},
   "source": [
    "Now let's play with the sentence similarity widget on Hugging face. For that we'll need the full summaries for each painter. I will save the previous table to a CSV for faster copy+paste, but you can also use the Python code under that to get the bios for a particular artist"
   ]
  },
  {
   "cell_type": "code",
   "execution_count": null,
   "id": "eb5161ea",
   "metadata": {},
   "outputs": [],
   "source": [
    "select_painter_bios.to_csv(\"data/select_painter_bios.csv\", index=False)"
   ]
  },
  {
   "cell_type": "code",
   "execution_count": null,
   "id": "0764c824",
   "metadata": {},
   "outputs": [],
   "source": [
    "painter_name = \"Vincent van Gogh\"\n",
    "select_painter_bios[select_painter_bios[\"painter_name\"] == painter_name][\"summary\"].values[0]"
   ]
  },
  {
   "cell_type": "markdown",
   "id": "52325078",
   "metadata": {
    "vscode": {
     "languageId": "html"
    }
   },
   "source": [
    "<div class=\"alert alert-info\">\n",
    "<b>Instruction:</b> Pick 5 painters from our test set. Put their bios in the <a href=\"https://huggingface.co/tasks/sentence-similarity\">Sentence Similarity demo</a> and write down the values. Then add your interpretation of the values. Are they high or low? Why might that be? Fill in the table below:\n",
    "</div>"
   ]
  },
  {
   "cell_type": "markdown",
   "id": "dabd5d01",
   "metadata": {},
   "source": [
    "| painter_name  | similarity_score | Interpretation                                          |\n",
    "|---------------|-----------------:|---------------------------------------------------------|\n",
    "| SOURCE NAME |               -- | The first painter is the source and does not get a score |\n",
    "| PAINTER NAME   |         Score @@ | Interpretation here @@                                  |\n",
    "| PAINTER NAME   |         Score @@ | Interpretation here @@                                  |\n",
    "| PAINTER NAME   |         Score @@ | Interpretation here @@                                  |\n",
    "| PAINTER NAME   |         Score @@ | Interpretation here @@                                  |"
   ]
  },
  {
   "cell_type": "markdown",
   "id": "e7b2b4be",
   "metadata": {},
   "source": [
    "This Sentence Similarity demo is quite cool. It takes each summary and converts it into an **embedding**, a numerical vector representation of the text that does a good job of capturing the semantics of the text. This is the part connected to machine learning. In the demo, the pre-trained model `all-MiniLM-L6-v2` is used to compute the embeddings. We'll work with this same model below.\n",
    "\n",
    "Once all the embeddings are computed, then it's a math game. The demo takes the source embedding (whichever artist you introduced first) and compares that embedding with each of the other embeddings in pairs. For each pair that is compared, say *source_painter* and *painter_1*, it produces a score between 0 and 1, where 0 means there is no similarity, and 1 means they are identical. There are many ways to compute similarity and a popular one is Cosine Similarity. There is some info on the demo page linked above, but reproduced here:\n",
    ">     The similarity of the embeddings is evaluated mainly on cosine similarity. It is calculated as the cosine of the angle between two vectors. It is particularly useful when your texts are not the same length\n",
    "\n",
    "---\n",
    "\n",
    "## 4.3 - Creating embeddings\n",
    "\n",
    "The first step to being able to cluster and visualize the painters is to compute the embeddings. "
   ]
  },
  {
   "cell_type": "code",
   "execution_count": null,
   "id": "58e52934",
   "metadata": {},
   "outputs": [],
   "source": [
    "from sentence_transformers import SentenceTransformer\n",
    "\n",
    "model = SentenceTransformer(\"all-MiniLM-L6-v2\")\n"
   ]
  },
  {
   "cell_type": "code",
   "execution_count": null,
   "id": "b4388331",
   "metadata": {},
   "outputs": [],
   "source": []
  }
 ],
 "metadata": {
  "kernelspec": {
   "display_name": "base",
   "language": "python",
   "name": "python3"
  },
  "language_info": {
   "codemirror_mode": {
    "name": "ipython",
    "version": 3
   },
   "file_extension": ".py",
   "mimetype": "text/x-python",
   "name": "python",
   "nbconvert_exporter": "python",
   "pygments_lexer": "ipython3",
   "version": "3.12.2"
  }
 },
 "nbformat": 4,
 "nbformat_minor": 5
}
