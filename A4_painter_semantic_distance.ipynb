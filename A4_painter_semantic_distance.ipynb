{
 "cells": [
  {
   "cell_type": "markdown",
   "id": "9d904535-f897-46f2-b31f-1a47f944d302",
   "metadata": {},
   "source": [
    "Before you turn this problem in, make sure everything runs as expected. First, **restart the kernel** (in the menubar, select Kernel $\\rightarrow$ Restart) and then **run all cells** (in the menubar, select Cell $\\rightarrow$ Run All).\n",
    "\n",
    "Make sure you fill in any place that says `YOUR CODE HERE` or \"YOUR ANSWER HERE\", as well as your name and email below:"
   ]
  },
  {
   "cell_type": "code",
   "execution_count": null,
   "id": "54c0505c",
   "metadata": {
    "vscode": {
     "languageId": "python"
    }
   },
   "outputs": [],
   "source": [
    "# Full name\n",
    "NAME = \"\"\n",
    "# Institutional email (hm.edu or hmtm.de)\n",
    "EMAIL = \"\""
   ]
  },
  {
   "cell_type": "markdown",
   "id": "ccc9d4c6",
   "metadata": {},
   "source": [
    "---"
   ]
  },
  {
   "cell_type": "markdown",
   "id": "5bf0c09a",
   "metadata": {},
   "source": [
    "# Day 4 - Visualizing Text @@\n",
    "\n",
    "## Introduction\n",
    "\n",
    "The fourth day of this class will show you:\n",
    "- HuggingFace, a platform for finding and working with different machine learning models.\n",
    "- How to use **BERT** to visualize how similar painters are based on their short bios.\n",
    "\n",
    "Please download the code and data from the [github repository](https://github.com/aica-wavelab/aica-assignments) and follow the instructions in the `A4_painter_semantic_distance`.\n",
    "\n",
    "[Github repository of the course](https://github.com/aica-wavelab/aica-assignments)\n",
    "\n",
    "## Content of the repository\n",
    "\n",
    "@@ FILL ME OUT @@\n",
    "\n",
    "## Assignment\n",
    "Today's task is to analyze "
   ]
  },
  {
   "cell_type": "markdown",
   "id": "29f0421c",
   "metadata": {},
   "source": [
    "## 4.1 - Explore the dataset\n",
    "\n"
   ]
  },
  {
   "cell_type": "code",
   "execution_count": null,
   "id": "a48d2603",
   "metadata": {
    "vscode": {
     "languageId": "python"
    }
   },
   "outputs": [],
   "source": []
  },
  {
   "cell_type": "code",
   "execution_count": null,
   "id": "49925b5a",
   "metadata": {
    "vscode": {
     "languageId": "python"
    }
   },
   "outputs": [],
   "source": []
  }
 ],
 "metadata": {
  "kernelspec": {
   "display_name": "",
   "name": ""
  },
  "language_info": {
   "name": ""
  }
 },
 "nbformat": 4,
 "nbformat_minor": 5
}
